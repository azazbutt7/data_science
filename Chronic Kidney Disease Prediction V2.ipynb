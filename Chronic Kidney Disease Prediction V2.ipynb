{
 "cells": [
  {
   "cell_type": "markdown",
   "id": "dceb8b55",
   "metadata": {},
   "source": [
    "# Chronic Kidney Disease Prediction\n",
    "In this notebook, we will attempt to make machine learning models using **Chronic Kindey Disease Data**, which in return identifies whether a person may have chronic kidney disease or not."
   ]
  },
  {
   "cell_type": "markdown",
   "id": "cc64ac22",
   "metadata": {},
   "source": [
    "# Importing Libraries"
   ]
  },
  {
   "cell_type": "code",
   "execution_count": 107,
   "id": "3def0a9a",
   "metadata": {},
   "outputs": [],
   "source": [
    "# importing python libraries\n",
    "%matplotlib inline\n",
    "import warnings\n",
    "import numpy as np\n",
    "import pandas as pd\n",
    "import matplotlib.pyplot as plt\n",
    "plt.style.use('seaborn')\n",
    "\n",
    "import seaborn as sns\n",
    "from sklearn.model_selection import train_test_split\n",
    "from sklearn.preprocessing import StandardScaler, MinMaxScaler, LabelEncoder\n",
    "from sklearn.impute import KNNImputer\n",
    "from sklearn.svm import SVC\n",
    "from sklearn.metrics import classification_report, confusion_matrix, accuracy_score, plot_confusion_matrix\n",
    "from sklearn.metrics import ConfusionMatrixDisplay\n",
    "from sklearn.ensemble import RandomForestClassifier\n",
    "from sklearn.tree import DecisionTreeClassifier\n",
    "from sklearn.neural_network import MLPClassifier\n",
    "\n",
    "import keras\n",
    "import tensorflow as tf\n",
    "from keras.models import Sequential\n",
    "from keras.layers import Dense, Dropout\n",
    "from tensorflow.keras.optimizers import Adam"
   ]
  },
  {
   "cell_type": "markdown",
   "id": "00ca7083",
   "metadata": {},
   "source": [
    "## Load the Data"
   ]
  },
  {
   "cell_type": "code",
   "execution_count": 9,
   "id": "21ef1ddd",
   "metadata": {},
   "outputs": [
    {
     "name": "stdout",
     "output_type": "stream",
     "text": [
      "(400, 26)\n",
      "Number of rows: 400\n",
      "Number of columns: 26\n"
     ]
    }
   ],
   "source": [
    "# load the data\n",
    "kidney_data = pd.read_csv('kidney_disease.csv')\n",
    "\n",
    "print(kidney_data.shape)\n",
    "print('Number of rows: %s' % str(kidney_data.shape[0]))\n",
    "print('Number of columns: %s' % str(kidney_data.shape[1]))"
   ]
  },
  {
   "cell_type": "code",
   "execution_count": 12,
   "id": "ea7a3031",
   "metadata": {},
   "outputs": [
    {
     "data": {
      "text/html": [
       "<div>\n",
       "<style scoped>\n",
       "    .dataframe tbody tr th:only-of-type {\n",
       "        vertical-align: middle;\n",
       "    }\n",
       "\n",
       "    .dataframe tbody tr th {\n",
       "        vertical-align: top;\n",
       "    }\n",
       "\n",
       "    .dataframe thead th {\n",
       "        text-align: right;\n",
       "    }\n",
       "</style>\n",
       "<table border=\"1\" class=\"dataframe\">\n",
       "  <thead>\n",
       "    <tr style=\"text-align: right;\">\n",
       "      <th></th>\n",
       "      <th>id</th>\n",
       "      <th>age</th>\n",
       "      <th>bp</th>\n",
       "      <th>sg</th>\n",
       "      <th>al</th>\n",
       "      <th>su</th>\n",
       "      <th>rbc</th>\n",
       "      <th>pc</th>\n",
       "      <th>pcc</th>\n",
       "      <th>ba</th>\n",
       "      <th>...</th>\n",
       "      <th>pcv</th>\n",
       "      <th>wc</th>\n",
       "      <th>rc</th>\n",
       "      <th>htn</th>\n",
       "      <th>dm</th>\n",
       "      <th>cad</th>\n",
       "      <th>appet</th>\n",
       "      <th>pe</th>\n",
       "      <th>ane</th>\n",
       "      <th>classification</th>\n",
       "    </tr>\n",
       "  </thead>\n",
       "  <tbody>\n",
       "    <tr>\n",
       "      <th>0</th>\n",
       "      <td>0</td>\n",
       "      <td>48.0</td>\n",
       "      <td>80.0</td>\n",
       "      <td>1.020</td>\n",
       "      <td>1.0</td>\n",
       "      <td>0.0</td>\n",
       "      <td>NaN</td>\n",
       "      <td>normal</td>\n",
       "      <td>notpresent</td>\n",
       "      <td>notpresent</td>\n",
       "      <td>...</td>\n",
       "      <td>44</td>\n",
       "      <td>7800</td>\n",
       "      <td>5.2</td>\n",
       "      <td>yes</td>\n",
       "      <td>yes</td>\n",
       "      <td>no</td>\n",
       "      <td>good</td>\n",
       "      <td>no</td>\n",
       "      <td>no</td>\n",
       "      <td>ckd</td>\n",
       "    </tr>\n",
       "    <tr>\n",
       "      <th>1</th>\n",
       "      <td>1</td>\n",
       "      <td>7.0</td>\n",
       "      <td>50.0</td>\n",
       "      <td>1.020</td>\n",
       "      <td>4.0</td>\n",
       "      <td>0.0</td>\n",
       "      <td>NaN</td>\n",
       "      <td>normal</td>\n",
       "      <td>notpresent</td>\n",
       "      <td>notpresent</td>\n",
       "      <td>...</td>\n",
       "      <td>38</td>\n",
       "      <td>6000</td>\n",
       "      <td>NaN</td>\n",
       "      <td>no</td>\n",
       "      <td>no</td>\n",
       "      <td>no</td>\n",
       "      <td>good</td>\n",
       "      <td>no</td>\n",
       "      <td>no</td>\n",
       "      <td>ckd</td>\n",
       "    </tr>\n",
       "    <tr>\n",
       "      <th>2</th>\n",
       "      <td>2</td>\n",
       "      <td>62.0</td>\n",
       "      <td>80.0</td>\n",
       "      <td>1.010</td>\n",
       "      <td>2.0</td>\n",
       "      <td>3.0</td>\n",
       "      <td>normal</td>\n",
       "      <td>normal</td>\n",
       "      <td>notpresent</td>\n",
       "      <td>notpresent</td>\n",
       "      <td>...</td>\n",
       "      <td>31</td>\n",
       "      <td>7500</td>\n",
       "      <td>NaN</td>\n",
       "      <td>no</td>\n",
       "      <td>yes</td>\n",
       "      <td>no</td>\n",
       "      <td>poor</td>\n",
       "      <td>no</td>\n",
       "      <td>yes</td>\n",
       "      <td>ckd</td>\n",
       "    </tr>\n",
       "    <tr>\n",
       "      <th>3</th>\n",
       "      <td>3</td>\n",
       "      <td>48.0</td>\n",
       "      <td>70.0</td>\n",
       "      <td>1.005</td>\n",
       "      <td>4.0</td>\n",
       "      <td>0.0</td>\n",
       "      <td>normal</td>\n",
       "      <td>abnormal</td>\n",
       "      <td>present</td>\n",
       "      <td>notpresent</td>\n",
       "      <td>...</td>\n",
       "      <td>32</td>\n",
       "      <td>6700</td>\n",
       "      <td>3.9</td>\n",
       "      <td>yes</td>\n",
       "      <td>no</td>\n",
       "      <td>no</td>\n",
       "      <td>poor</td>\n",
       "      <td>yes</td>\n",
       "      <td>yes</td>\n",
       "      <td>ckd</td>\n",
       "    </tr>\n",
       "    <tr>\n",
       "      <th>4</th>\n",
       "      <td>4</td>\n",
       "      <td>51.0</td>\n",
       "      <td>80.0</td>\n",
       "      <td>1.010</td>\n",
       "      <td>2.0</td>\n",
       "      <td>0.0</td>\n",
       "      <td>normal</td>\n",
       "      <td>normal</td>\n",
       "      <td>notpresent</td>\n",
       "      <td>notpresent</td>\n",
       "      <td>...</td>\n",
       "      <td>35</td>\n",
       "      <td>7300</td>\n",
       "      <td>4.6</td>\n",
       "      <td>no</td>\n",
       "      <td>no</td>\n",
       "      <td>no</td>\n",
       "      <td>good</td>\n",
       "      <td>no</td>\n",
       "      <td>no</td>\n",
       "      <td>ckd</td>\n",
       "    </tr>\n",
       "  </tbody>\n",
       "</table>\n",
       "<p>5 rows × 26 columns</p>\n",
       "</div>"
      ],
      "text/plain": [
       "   id   age    bp     sg   al   su     rbc        pc         pcc          ba  \\\n",
       "0   0  48.0  80.0  1.020  1.0  0.0     NaN    normal  notpresent  notpresent   \n",
       "1   1   7.0  50.0  1.020  4.0  0.0     NaN    normal  notpresent  notpresent   \n",
       "2   2  62.0  80.0  1.010  2.0  3.0  normal    normal  notpresent  notpresent   \n",
       "3   3  48.0  70.0  1.005  4.0  0.0  normal  abnormal     present  notpresent   \n",
       "4   4  51.0  80.0  1.010  2.0  0.0  normal    normal  notpresent  notpresent   \n",
       "\n",
       "   ...  pcv    wc   rc  htn   dm  cad appet   pe  ane classification  \n",
       "0  ...   44  7800  5.2  yes  yes   no  good   no   no            ckd  \n",
       "1  ...   38  6000  NaN   no   no   no  good   no   no            ckd  \n",
       "2  ...   31  7500  NaN   no  yes   no  poor   no  yes            ckd  \n",
       "3  ...   32  6700  3.9  yes   no   no  poor  yes  yes            ckd  \n",
       "4  ...   35  7300  4.6   no   no   no  good   no   no            ckd  \n",
       "\n",
       "[5 rows x 26 columns]"
      ]
     },
     "execution_count": 12,
     "metadata": {},
     "output_type": "execute_result"
    }
   ],
   "source": [
    "kidney_data.head(5)"
   ]
  },
  {
   "cell_type": "code",
   "execution_count": 13,
   "id": "387495f2",
   "metadata": {},
   "outputs": [
    {
     "data": {
      "text/html": [
       "<div>\n",
       "<style scoped>\n",
       "    .dataframe tbody tr th:only-of-type {\n",
       "        vertical-align: middle;\n",
       "    }\n",
       "\n",
       "    .dataframe tbody tr th {\n",
       "        vertical-align: top;\n",
       "    }\n",
       "\n",
       "    .dataframe thead th {\n",
       "        text-align: right;\n",
       "    }\n",
       "</style>\n",
       "<table border=\"1\" class=\"dataframe\">\n",
       "  <thead>\n",
       "    <tr style=\"text-align: right;\">\n",
       "      <th></th>\n",
       "      <th>id</th>\n",
       "      <th>age</th>\n",
       "      <th>bp</th>\n",
       "      <th>sg</th>\n",
       "      <th>al</th>\n",
       "      <th>su</th>\n",
       "      <th>bgr</th>\n",
       "      <th>bu</th>\n",
       "      <th>sc</th>\n",
       "      <th>sod</th>\n",
       "      <th>pot</th>\n",
       "      <th>hemo</th>\n",
       "    </tr>\n",
       "  </thead>\n",
       "  <tbody>\n",
       "    <tr>\n",
       "      <th>count</th>\n",
       "      <td>400.000000</td>\n",
       "      <td>391.000000</td>\n",
       "      <td>388.000000</td>\n",
       "      <td>353.000000</td>\n",
       "      <td>354.000000</td>\n",
       "      <td>351.000000</td>\n",
       "      <td>356.000000</td>\n",
       "      <td>381.000000</td>\n",
       "      <td>383.000000</td>\n",
       "      <td>313.000000</td>\n",
       "      <td>312.000000</td>\n",
       "      <td>348.000000</td>\n",
       "    </tr>\n",
       "    <tr>\n",
       "      <th>mean</th>\n",
       "      <td>199.500000</td>\n",
       "      <td>51.483376</td>\n",
       "      <td>76.469072</td>\n",
       "      <td>1.017408</td>\n",
       "      <td>1.016949</td>\n",
       "      <td>0.450142</td>\n",
       "      <td>148.036517</td>\n",
       "      <td>57.425722</td>\n",
       "      <td>3.072454</td>\n",
       "      <td>137.528754</td>\n",
       "      <td>4.627244</td>\n",
       "      <td>12.526437</td>\n",
       "    </tr>\n",
       "    <tr>\n",
       "      <th>std</th>\n",
       "      <td>115.614301</td>\n",
       "      <td>17.169714</td>\n",
       "      <td>13.683637</td>\n",
       "      <td>0.005717</td>\n",
       "      <td>1.352679</td>\n",
       "      <td>1.099191</td>\n",
       "      <td>79.281714</td>\n",
       "      <td>50.503006</td>\n",
       "      <td>5.741126</td>\n",
       "      <td>10.408752</td>\n",
       "      <td>3.193904</td>\n",
       "      <td>2.912587</td>\n",
       "    </tr>\n",
       "    <tr>\n",
       "      <th>min</th>\n",
       "      <td>0.000000</td>\n",
       "      <td>2.000000</td>\n",
       "      <td>50.000000</td>\n",
       "      <td>1.005000</td>\n",
       "      <td>0.000000</td>\n",
       "      <td>0.000000</td>\n",
       "      <td>22.000000</td>\n",
       "      <td>1.500000</td>\n",
       "      <td>0.400000</td>\n",
       "      <td>4.500000</td>\n",
       "      <td>2.500000</td>\n",
       "      <td>3.100000</td>\n",
       "    </tr>\n",
       "    <tr>\n",
       "      <th>25%</th>\n",
       "      <td>99.750000</td>\n",
       "      <td>42.000000</td>\n",
       "      <td>70.000000</td>\n",
       "      <td>1.010000</td>\n",
       "      <td>0.000000</td>\n",
       "      <td>0.000000</td>\n",
       "      <td>99.000000</td>\n",
       "      <td>27.000000</td>\n",
       "      <td>0.900000</td>\n",
       "      <td>135.000000</td>\n",
       "      <td>3.800000</td>\n",
       "      <td>10.300000</td>\n",
       "    </tr>\n",
       "    <tr>\n",
       "      <th>50%</th>\n",
       "      <td>199.500000</td>\n",
       "      <td>55.000000</td>\n",
       "      <td>80.000000</td>\n",
       "      <td>1.020000</td>\n",
       "      <td>0.000000</td>\n",
       "      <td>0.000000</td>\n",
       "      <td>121.000000</td>\n",
       "      <td>42.000000</td>\n",
       "      <td>1.300000</td>\n",
       "      <td>138.000000</td>\n",
       "      <td>4.400000</td>\n",
       "      <td>12.650000</td>\n",
       "    </tr>\n",
       "    <tr>\n",
       "      <th>75%</th>\n",
       "      <td>299.250000</td>\n",
       "      <td>64.500000</td>\n",
       "      <td>80.000000</td>\n",
       "      <td>1.020000</td>\n",
       "      <td>2.000000</td>\n",
       "      <td>0.000000</td>\n",
       "      <td>163.000000</td>\n",
       "      <td>66.000000</td>\n",
       "      <td>2.800000</td>\n",
       "      <td>142.000000</td>\n",
       "      <td>4.900000</td>\n",
       "      <td>15.000000</td>\n",
       "    </tr>\n",
       "    <tr>\n",
       "      <th>max</th>\n",
       "      <td>399.000000</td>\n",
       "      <td>90.000000</td>\n",
       "      <td>180.000000</td>\n",
       "      <td>1.025000</td>\n",
       "      <td>5.000000</td>\n",
       "      <td>5.000000</td>\n",
       "      <td>490.000000</td>\n",
       "      <td>391.000000</td>\n",
       "      <td>76.000000</td>\n",
       "      <td>163.000000</td>\n",
       "      <td>47.000000</td>\n",
       "      <td>17.800000</td>\n",
       "    </tr>\n",
       "  </tbody>\n",
       "</table>\n",
       "</div>"
      ],
      "text/plain": [
       "               id         age          bp          sg          al          su  \\\n",
       "count  400.000000  391.000000  388.000000  353.000000  354.000000  351.000000   \n",
       "mean   199.500000   51.483376   76.469072    1.017408    1.016949    0.450142   \n",
       "std    115.614301   17.169714   13.683637    0.005717    1.352679    1.099191   \n",
       "min      0.000000    2.000000   50.000000    1.005000    0.000000    0.000000   \n",
       "25%     99.750000   42.000000   70.000000    1.010000    0.000000    0.000000   \n",
       "50%    199.500000   55.000000   80.000000    1.020000    0.000000    0.000000   \n",
       "75%    299.250000   64.500000   80.000000    1.020000    2.000000    0.000000   \n",
       "max    399.000000   90.000000  180.000000    1.025000    5.000000    5.000000   \n",
       "\n",
       "              bgr          bu          sc         sod         pot        hemo  \n",
       "count  356.000000  381.000000  383.000000  313.000000  312.000000  348.000000  \n",
       "mean   148.036517   57.425722    3.072454  137.528754    4.627244   12.526437  \n",
       "std     79.281714   50.503006    5.741126   10.408752    3.193904    2.912587  \n",
       "min     22.000000    1.500000    0.400000    4.500000    2.500000    3.100000  \n",
       "25%     99.000000   27.000000    0.900000  135.000000    3.800000   10.300000  \n",
       "50%    121.000000   42.000000    1.300000  138.000000    4.400000   12.650000  \n",
       "75%    163.000000   66.000000    2.800000  142.000000    4.900000   15.000000  \n",
       "max    490.000000  391.000000   76.000000  163.000000   47.000000   17.800000  "
      ]
     },
     "execution_count": 13,
     "metadata": {},
     "output_type": "execute_result"
    }
   ],
   "source": [
    "# get some statistical information\n",
    "kidney_data.describe()"
   ]
  },
  {
   "cell_type": "code",
   "execution_count": 14,
   "id": "c7965a2e",
   "metadata": {},
   "outputs": [
    {
     "name": "stdout",
     "output_type": "stream",
     "text": [
      "<class 'pandas.core.frame.DataFrame'>\n",
      "RangeIndex: 400 entries, 0 to 399\n",
      "Data columns (total 26 columns):\n",
      " #   Column          Non-Null Count  Dtype  \n",
      "---  ------          --------------  -----  \n",
      " 0   id              400 non-null    int64  \n",
      " 1   age             391 non-null    float64\n",
      " 2   bp              388 non-null    float64\n",
      " 3   sg              353 non-null    float64\n",
      " 4   al              354 non-null    float64\n",
      " 5   su              351 non-null    float64\n",
      " 6   rbc             248 non-null    object \n",
      " 7   pc              335 non-null    object \n",
      " 8   pcc             396 non-null    object \n",
      " 9   ba              396 non-null    object \n",
      " 10  bgr             356 non-null    float64\n",
      " 11  bu              381 non-null    float64\n",
      " 12  sc              383 non-null    float64\n",
      " 13  sod             313 non-null    float64\n",
      " 14  pot             312 non-null    float64\n",
      " 15  hemo            348 non-null    float64\n",
      " 16  pcv             330 non-null    object \n",
      " 17  wc              295 non-null    object \n",
      " 18  rc              270 non-null    object \n",
      " 19  htn             398 non-null    object \n",
      " 20  dm              398 non-null    object \n",
      " 21  cad             398 non-null    object \n",
      " 22  appet           399 non-null    object \n",
      " 23  pe              399 non-null    object \n",
      " 24  ane             399 non-null    object \n",
      " 25  classification  400 non-null    object \n",
      "dtypes: float64(11), int64(1), object(14)\n",
      "memory usage: 81.4+ KB\n"
     ]
    }
   ],
   "source": [
    "kidney_data.info()"
   ]
  },
  {
   "cell_type": "code",
   "execution_count": 15,
   "id": "1b9d18ff",
   "metadata": {},
   "outputs": [
    {
     "data": {
      "text/plain": [
       "Index(['id', 'age', 'bp', 'sg', 'al', 'su', 'rbc', 'pc', 'pcc', 'ba', 'bgr',\n",
       "       'bu', 'sc', 'sod', 'pot', 'hemo', 'pcv', 'wc', 'rc', 'htn', 'dm', 'cad',\n",
       "       'appet', 'pe', 'ane', 'classification'],\n",
       "      dtype='object')"
      ]
     },
     "execution_count": 15,
     "metadata": {},
     "output_type": "execute_result"
    }
   ],
   "source": [
    "# print dataset columns\n",
    "kidney_data.columns"
   ]
  },
  {
   "cell_type": "code",
   "execution_count": 16,
   "id": "e0351597",
   "metadata": {},
   "outputs": [
    {
     "name": "stdout",
     "output_type": "stream",
     "text": [
      "0      yes\n",
      "1       no\n",
      "2      yes\n",
      "3       no\n",
      "4       no\n",
      "      ... \n",
      "395     no\n",
      "396     no\n",
      "397     no\n",
      "398     no\n",
      "399     no\n",
      "Name: dm, Length: 400, dtype: object\n"
     ]
    }
   ],
   "source": [
    "print(kidney_data['dm'])"
   ]
  },
  {
   "cell_type": "markdown",
   "id": "0e2c6d97",
   "metadata": {},
   "source": [
    "## Data Preprocessing\n",
    "Our data contains missing, null and Nan values, and it also contains categorical values which need to be converted to numerical form. We will undergo data preprocessing steps in below section to make data ready for modelling. This step includes:\n",
    "* Checking for null, missing and NaN values\n",
    "* Removing null, missing and NaN values\n",
    "* Getting the the ready in a form to apply machine learning"
   ]
  },
  {
   "cell_type": "code",
   "execution_count": 17,
   "id": "c5051c75",
   "metadata": {},
   "outputs": [
    {
     "data": {
      "text/plain": [
       "(400, 26)"
      ]
     },
     "execution_count": 17,
     "metadata": {},
     "output_type": "execute_result"
    }
   ],
   "source": [
    "kidney_data.shape"
   ]
  },
  {
   "cell_type": "markdown",
   "id": "9e241252",
   "metadata": {},
   "source": [
    "We have a total of **400** samples and **26** features in data."
   ]
  },
  {
   "cell_type": "code",
   "execution_count": 18,
   "id": "fb6337f2",
   "metadata": {},
   "outputs": [],
   "source": [
    "kidney_data = kidney_data.drop('id', axis=1)"
   ]
  },
  {
   "cell_type": "code",
   "execution_count": 19,
   "id": "409e1d3d",
   "metadata": {},
   "outputs": [
    {
     "data": {
      "text/html": [
       "<div>\n",
       "<style scoped>\n",
       "    .dataframe tbody tr th:only-of-type {\n",
       "        vertical-align: middle;\n",
       "    }\n",
       "\n",
       "    .dataframe tbody tr th {\n",
       "        vertical-align: top;\n",
       "    }\n",
       "\n",
       "    .dataframe thead th {\n",
       "        text-align: right;\n",
       "    }\n",
       "</style>\n",
       "<table border=\"1\" class=\"dataframe\">\n",
       "  <thead>\n",
       "    <tr style=\"text-align: right;\">\n",
       "      <th></th>\n",
       "      <th>age</th>\n",
       "      <th>bp</th>\n",
       "      <th>sg</th>\n",
       "      <th>al</th>\n",
       "      <th>su</th>\n",
       "      <th>rbc</th>\n",
       "      <th>pc</th>\n",
       "      <th>pcc</th>\n",
       "      <th>ba</th>\n",
       "      <th>bgr</th>\n",
       "      <th>...</th>\n",
       "      <th>pcv</th>\n",
       "      <th>wc</th>\n",
       "      <th>rc</th>\n",
       "      <th>htn</th>\n",
       "      <th>dm</th>\n",
       "      <th>cad</th>\n",
       "      <th>appet</th>\n",
       "      <th>pe</th>\n",
       "      <th>ane</th>\n",
       "      <th>classification</th>\n",
       "    </tr>\n",
       "  </thead>\n",
       "  <tbody>\n",
       "    <tr>\n",
       "      <th>0</th>\n",
       "      <td>48.0</td>\n",
       "      <td>80.0</td>\n",
       "      <td>1.02</td>\n",
       "      <td>1.0</td>\n",
       "      <td>0.0</td>\n",
       "      <td>NaN</td>\n",
       "      <td>normal</td>\n",
       "      <td>notpresent</td>\n",
       "      <td>notpresent</td>\n",
       "      <td>121.0</td>\n",
       "      <td>...</td>\n",
       "      <td>44</td>\n",
       "      <td>7800</td>\n",
       "      <td>5.2</td>\n",
       "      <td>yes</td>\n",
       "      <td>yes</td>\n",
       "      <td>no</td>\n",
       "      <td>good</td>\n",
       "      <td>no</td>\n",
       "      <td>no</td>\n",
       "      <td>ckd</td>\n",
       "    </tr>\n",
       "    <tr>\n",
       "      <th>1</th>\n",
       "      <td>7.0</td>\n",
       "      <td>50.0</td>\n",
       "      <td>1.02</td>\n",
       "      <td>4.0</td>\n",
       "      <td>0.0</td>\n",
       "      <td>NaN</td>\n",
       "      <td>normal</td>\n",
       "      <td>notpresent</td>\n",
       "      <td>notpresent</td>\n",
       "      <td>NaN</td>\n",
       "      <td>...</td>\n",
       "      <td>38</td>\n",
       "      <td>6000</td>\n",
       "      <td>NaN</td>\n",
       "      <td>no</td>\n",
       "      <td>no</td>\n",
       "      <td>no</td>\n",
       "      <td>good</td>\n",
       "      <td>no</td>\n",
       "      <td>no</td>\n",
       "      <td>ckd</td>\n",
       "    </tr>\n",
       "    <tr>\n",
       "      <th>2</th>\n",
       "      <td>62.0</td>\n",
       "      <td>80.0</td>\n",
       "      <td>1.01</td>\n",
       "      <td>2.0</td>\n",
       "      <td>3.0</td>\n",
       "      <td>normal</td>\n",
       "      <td>normal</td>\n",
       "      <td>notpresent</td>\n",
       "      <td>notpresent</td>\n",
       "      <td>423.0</td>\n",
       "      <td>...</td>\n",
       "      <td>31</td>\n",
       "      <td>7500</td>\n",
       "      <td>NaN</td>\n",
       "      <td>no</td>\n",
       "      <td>yes</td>\n",
       "      <td>no</td>\n",
       "      <td>poor</td>\n",
       "      <td>no</td>\n",
       "      <td>yes</td>\n",
       "      <td>ckd</td>\n",
       "    </tr>\n",
       "  </tbody>\n",
       "</table>\n",
       "<p>3 rows × 25 columns</p>\n",
       "</div>"
      ],
      "text/plain": [
       "    age    bp    sg   al   su     rbc      pc         pcc          ba    bgr  \\\n",
       "0  48.0  80.0  1.02  1.0  0.0     NaN  normal  notpresent  notpresent  121.0   \n",
       "1   7.0  50.0  1.02  4.0  0.0     NaN  normal  notpresent  notpresent    NaN   \n",
       "2  62.0  80.0  1.01  2.0  3.0  normal  normal  notpresent  notpresent  423.0   \n",
       "\n",
       "   ...  pcv    wc   rc  htn   dm cad appet  pe  ane classification  \n",
       "0  ...   44  7800  5.2  yes  yes  no  good  no   no            ckd  \n",
       "1  ...   38  6000  NaN   no   no  no  good  no   no            ckd  \n",
       "2  ...   31  7500  NaN   no  yes  no  poor  no  yes            ckd  \n",
       "\n",
       "[3 rows x 25 columns]"
      ]
     },
     "execution_count": 19,
     "metadata": {},
     "output_type": "execute_result"
    }
   ],
   "source": [
    "kidney_data.head(3)"
   ]
  },
  {
   "cell_type": "code",
   "execution_count": 20,
   "id": "61992da8",
   "metadata": {},
   "outputs": [],
   "source": [
    "# make column names easy to comprehend\n",
    "'''\n",
    "The column names are named in abbreviative manner. For making a comprehension about them, we will rename it in way that\n",
    "it could be understood easily.\n",
    "'''\n",
    "kidney_data.columns = ['age', 'blood_pressure', 'specific_gravity', \n",
    "                      'albumin', 'sugar', 'red_blood_cells', 'pus_cell',\n",
    "                      'pus_cell_clumps', 'bacteria', 'blood_gulucose_random', \n",
    "                      'blood_uera', 'serum_creatinine', 'sodium', 'potassium',\n",
    "                      'haemoglobin', 'packed_cell_volume', 'white_blood_cell_count', \n",
    "                      'red_blood_cell_count', 'hypertension', 'diabetes_mallitus', \n",
    "                      'coronary_artery_disease', 'appetite', 'peda_edema',\n",
    "                      'anaemia', 'class']"
   ]
  },
  {
   "cell_type": "code",
   "execution_count": 21,
   "id": "70f03ea1",
   "metadata": {},
   "outputs": [
    {
     "data": {
      "text/html": [
       "<div>\n",
       "<style scoped>\n",
       "    .dataframe tbody tr th:only-of-type {\n",
       "        vertical-align: middle;\n",
       "    }\n",
       "\n",
       "    .dataframe tbody tr th {\n",
       "        vertical-align: top;\n",
       "    }\n",
       "\n",
       "    .dataframe thead th {\n",
       "        text-align: right;\n",
       "    }\n",
       "</style>\n",
       "<table border=\"1\" class=\"dataframe\">\n",
       "  <thead>\n",
       "    <tr style=\"text-align: right;\">\n",
       "      <th></th>\n",
       "      <th>age</th>\n",
       "      <th>blood_pressure</th>\n",
       "      <th>specific_gravity</th>\n",
       "      <th>albumin</th>\n",
       "      <th>sugar</th>\n",
       "      <th>red_blood_cells</th>\n",
       "      <th>pus_cell</th>\n",
       "      <th>pus_cell_clumps</th>\n",
       "      <th>bacteria</th>\n",
       "      <th>blood_gulucose_random</th>\n",
       "      <th>...</th>\n",
       "      <th>packed_cell_volume</th>\n",
       "      <th>white_blood_cell_count</th>\n",
       "      <th>red_blood_cell_count</th>\n",
       "      <th>hypertension</th>\n",
       "      <th>diabetes_mallitus</th>\n",
       "      <th>coronary_artery_disease</th>\n",
       "      <th>appetite</th>\n",
       "      <th>peda_edema</th>\n",
       "      <th>anaemia</th>\n",
       "      <th>class</th>\n",
       "    </tr>\n",
       "  </thead>\n",
       "  <tbody>\n",
       "    <tr>\n",
       "      <th>0</th>\n",
       "      <td>48.0</td>\n",
       "      <td>80.0</td>\n",
       "      <td>1.020</td>\n",
       "      <td>1.0</td>\n",
       "      <td>0.0</td>\n",
       "      <td>NaN</td>\n",
       "      <td>normal</td>\n",
       "      <td>notpresent</td>\n",
       "      <td>notpresent</td>\n",
       "      <td>121.0</td>\n",
       "      <td>...</td>\n",
       "      <td>44</td>\n",
       "      <td>7800</td>\n",
       "      <td>5.2</td>\n",
       "      <td>yes</td>\n",
       "      <td>yes</td>\n",
       "      <td>no</td>\n",
       "      <td>good</td>\n",
       "      <td>no</td>\n",
       "      <td>no</td>\n",
       "      <td>ckd</td>\n",
       "    </tr>\n",
       "    <tr>\n",
       "      <th>1</th>\n",
       "      <td>7.0</td>\n",
       "      <td>50.0</td>\n",
       "      <td>1.020</td>\n",
       "      <td>4.0</td>\n",
       "      <td>0.0</td>\n",
       "      <td>NaN</td>\n",
       "      <td>normal</td>\n",
       "      <td>notpresent</td>\n",
       "      <td>notpresent</td>\n",
       "      <td>NaN</td>\n",
       "      <td>...</td>\n",
       "      <td>38</td>\n",
       "      <td>6000</td>\n",
       "      <td>NaN</td>\n",
       "      <td>no</td>\n",
       "      <td>no</td>\n",
       "      <td>no</td>\n",
       "      <td>good</td>\n",
       "      <td>no</td>\n",
       "      <td>no</td>\n",
       "      <td>ckd</td>\n",
       "    </tr>\n",
       "    <tr>\n",
       "      <th>2</th>\n",
       "      <td>62.0</td>\n",
       "      <td>80.0</td>\n",
       "      <td>1.010</td>\n",
       "      <td>2.0</td>\n",
       "      <td>3.0</td>\n",
       "      <td>normal</td>\n",
       "      <td>normal</td>\n",
       "      <td>notpresent</td>\n",
       "      <td>notpresent</td>\n",
       "      <td>423.0</td>\n",
       "      <td>...</td>\n",
       "      <td>31</td>\n",
       "      <td>7500</td>\n",
       "      <td>NaN</td>\n",
       "      <td>no</td>\n",
       "      <td>yes</td>\n",
       "      <td>no</td>\n",
       "      <td>poor</td>\n",
       "      <td>no</td>\n",
       "      <td>yes</td>\n",
       "      <td>ckd</td>\n",
       "    </tr>\n",
       "    <tr>\n",
       "      <th>3</th>\n",
       "      <td>48.0</td>\n",
       "      <td>70.0</td>\n",
       "      <td>1.005</td>\n",
       "      <td>4.0</td>\n",
       "      <td>0.0</td>\n",
       "      <td>normal</td>\n",
       "      <td>abnormal</td>\n",
       "      <td>present</td>\n",
       "      <td>notpresent</td>\n",
       "      <td>117.0</td>\n",
       "      <td>...</td>\n",
       "      <td>32</td>\n",
       "      <td>6700</td>\n",
       "      <td>3.9</td>\n",
       "      <td>yes</td>\n",
       "      <td>no</td>\n",
       "      <td>no</td>\n",
       "      <td>poor</td>\n",
       "      <td>yes</td>\n",
       "      <td>yes</td>\n",
       "      <td>ckd</td>\n",
       "    </tr>\n",
       "  </tbody>\n",
       "</table>\n",
       "<p>4 rows × 25 columns</p>\n",
       "</div>"
      ],
      "text/plain": [
       "    age  blood_pressure  specific_gravity  albumin  sugar red_blood_cells  \\\n",
       "0  48.0            80.0             1.020      1.0    0.0             NaN   \n",
       "1   7.0            50.0             1.020      4.0    0.0             NaN   \n",
       "2  62.0            80.0             1.010      2.0    3.0          normal   \n",
       "3  48.0            70.0             1.005      4.0    0.0          normal   \n",
       "\n",
       "   pus_cell pus_cell_clumps    bacteria  blood_gulucose_random  ...  \\\n",
       "0    normal      notpresent  notpresent                  121.0  ...   \n",
       "1    normal      notpresent  notpresent                    NaN  ...   \n",
       "2    normal      notpresent  notpresent                  423.0  ...   \n",
       "3  abnormal         present  notpresent                  117.0  ...   \n",
       "\n",
       "   packed_cell_volume  white_blood_cell_count  red_blood_cell_count  \\\n",
       "0                  44                    7800                   5.2   \n",
       "1                  38                    6000                   NaN   \n",
       "2                  31                    7500                   NaN   \n",
       "3                  32                    6700                   3.9   \n",
       "\n",
       "   hypertension  diabetes_mallitus coronary_artery_disease appetite  \\\n",
       "0           yes                yes                      no     good   \n",
       "1            no                 no                      no     good   \n",
       "2            no                yes                      no     poor   \n",
       "3           yes                 no                      no     poor   \n",
       "\n",
       "  peda_edema anaemia class  \n",
       "0         no      no   ckd  \n",
       "1         no      no   ckd  \n",
       "2         no     yes   ckd  \n",
       "3        yes     yes   ckd  \n",
       "\n",
       "[4 rows x 25 columns]"
      ]
     },
     "execution_count": 21,
     "metadata": {},
     "output_type": "execute_result"
    }
   ],
   "source": [
    "kidney_data.head(4)"
   ]
  },
  {
   "cell_type": "code",
   "execution_count": 22,
   "id": "4029526b",
   "metadata": {},
   "outputs": [
    {
     "name": "stdout",
     "output_type": "stream",
     "text": [
      "<class 'pandas.core.frame.DataFrame'>\n",
      "RangeIndex: 400 entries, 0 to 399\n",
      "Data columns (total 25 columns):\n",
      " #   Column                   Non-Null Count  Dtype  \n",
      "---  ------                   --------------  -----  \n",
      " 0   age                      391 non-null    float64\n",
      " 1   blood_pressure           388 non-null    float64\n",
      " 2   specific_gravity         353 non-null    float64\n",
      " 3   albumin                  354 non-null    float64\n",
      " 4   sugar                    351 non-null    float64\n",
      " 5   red_blood_cells          248 non-null    object \n",
      " 6   pus_cell                 335 non-null    object \n",
      " 7   pus_cell_clumps          396 non-null    object \n",
      " 8   bacteria                 396 non-null    object \n",
      " 9   blood_gulucose_random    356 non-null    float64\n",
      " 10  blood_uera               381 non-null    float64\n",
      " 11  serum_creatinine         383 non-null    float64\n",
      " 12  sodium                   313 non-null    float64\n",
      " 13  potassium                312 non-null    float64\n",
      " 14  haemoglobin              348 non-null    float64\n",
      " 15  packed_cell_volume       330 non-null    object \n",
      " 16  white_blood_cell_count   295 non-null    object \n",
      " 17  red_blood_cell_count     270 non-null    object \n",
      " 18  hypertension             398 non-null    object \n",
      " 19  diabetes_mallitus        398 non-null    object \n",
      " 20  coronary_artery_disease  398 non-null    object \n",
      " 21  appetite                 399 non-null    object \n",
      " 22  peda_edema               399 non-null    object \n",
      " 23  anaemia                  399 non-null    object \n",
      " 24  class                    400 non-null    object \n",
      "dtypes: float64(11), object(14)\n",
      "memory usage: 78.2+ KB\n"
     ]
    }
   ],
   "source": [
    "kidney_data.info()"
   ]
  },
  {
   "cell_type": "markdown",
   "id": "24f3d179",
   "metadata": {},
   "source": [
    "### Converting Columns to Numerical Types"
   ]
  },
  {
   "cell_type": "code",
   "execution_count": 23,
   "id": "4f7cee56",
   "metadata": {},
   "outputs": [],
   "source": [
    "kidney_data['packed_cell_volume'] = pd.to_numeric(kidney_data['packed_cell_volume'], \n",
    "                                                 errors='coerce')\n",
    "kidney_data['white_blood_cell_count'] = pd.to_numeric(kidney_data['white_blood_cell_count'], \n",
    "                                                     errors='coerce')\n",
    "kidney_data['red_blood_cell_count'] = pd.to_numeric(kidney_data['white_blood_cell_count'], \n",
    "                                                     errors='coerce')"
   ]
  },
  {
   "cell_type": "code",
   "execution_count": 26,
   "id": "fd7c66b5",
   "metadata": {},
   "outputs": [
    {
     "name": "stdout",
     "output_type": "stream",
     "text": [
      "float64\n",
      "float64\n",
      "float64\n"
     ]
    }
   ],
   "source": [
    "print(kidney_data['white_blood_cell_count'].dtype)\n",
    "print(kidney_data['packed_cell_volume'].dtype)\n",
    "print(kidney_data['red_blood_cell_count'].dtype)"
   ]
  },
  {
   "cell_type": "markdown",
   "id": "d7d44663",
   "metadata": {},
   "source": [
    "### Extract Column Types"
   ]
  },
  {
   "cell_type": "code",
   "execution_count": 27,
   "id": "c6672e59",
   "metadata": {},
   "outputs": [],
   "source": [
    "# extract categorical & numerical columns\n",
    "cat_cols = [i for i in kidney_data.columns if kidney_data[i].dtype=='object']\n",
    "numeric_cols = [i for i in kidney_data.columns if kidney_data[i].dtype!='object']"
   ]
  },
  {
   "cell_type": "code",
   "execution_count": 28,
   "id": "3d340aeb",
   "metadata": {},
   "outputs": [
    {
     "name": "stdout",
     "output_type": "stream",
     "text": [
      "Number of categorical columns: 11\n",
      "Number of numerical columns: 14\n"
     ]
    }
   ],
   "source": [
    "print('Number of categorical columns: %s' % str(len(cat_cols)))\n",
    "print('Number of numerical columns: %s' % str(len(numeric_cols)))"
   ]
  },
  {
   "cell_type": "code",
   "execution_count": 29,
   "id": "57b0ecaf",
   "metadata": {},
   "outputs": [
    {
     "name": "stdout",
     "output_type": "stream",
     "text": [
      "red_blood_cells has [nan 'normal' 'abnormal'] values\n",
      "\n",
      "pus_cell has ['normal' 'abnormal' nan] values\n",
      "\n",
      "pus_cell_clumps has ['notpresent' 'present' nan] values\n",
      "\n",
      "bacteria has ['notpresent' 'present' nan] values\n",
      "\n",
      "hypertension has ['yes' 'no' nan] values\n",
      "\n",
      "diabetes_mallitus has ['yes' 'no' ' yes' '\\tno' '\\tyes' nan] values\n",
      "\n",
      "coronary_artery_disease has ['no' 'yes' '\\tno' nan] values\n",
      "\n",
      "appetite has ['good' 'poor' nan] values\n",
      "\n",
      "peda_edema has ['no' 'yes' nan] values\n",
      "\n",
      "anaemia has ['no' 'yes' nan] values\n",
      "\n",
      "class has ['ckd' 'ckd\\t' 'notckd'] values\n",
      "\n"
     ]
    }
   ],
   "source": [
    "# check for missing values in each column\n",
    "for c in cat_cols:\n",
    "    print(f'{c} has {kidney_data[c].unique()} values\\n')"
   ]
  },
  {
   "cell_type": "code",
   "execution_count": 30,
   "id": "80af64f5",
   "metadata": {},
   "outputs": [],
   "source": [
    "# replacing incorrect values in columns\n",
    "kidney_data['diabetes_mallitus'] = kidney_data['diabetes_mallitus'].replace(to_replace={'\\tno': 'no', '\\tyes': 'yes', 'yes':'yes'})\n",
    "kidney_data['coronary_artery_disease'] = kidney_data['coronary_artery_disease'].replace(to_replace='\\tno', value='no')\n",
    "kidney_data['class'] = kidney_data['class'].replace(to_replace={'ckd\\t': 'ckd', 'ckd': 'ckd', 'notckd': 'not ckd'})"
   ]
  },
  {
   "cell_type": "code",
   "execution_count": 32,
   "id": "4ed16015",
   "metadata": {},
   "outputs": [
    {
     "data": {
      "text/html": [
       "<div>\n",
       "<style scoped>\n",
       "    .dataframe tbody tr th:only-of-type {\n",
       "        vertical-align: middle;\n",
       "    }\n",
       "\n",
       "    .dataframe tbody tr th {\n",
       "        vertical-align: top;\n",
       "    }\n",
       "\n",
       "    .dataframe thead th {\n",
       "        text-align: right;\n",
       "    }\n",
       "</style>\n",
       "<table border=\"1\" class=\"dataframe\">\n",
       "  <thead>\n",
       "    <tr style=\"text-align: right;\">\n",
       "      <th></th>\n",
       "      <th>age</th>\n",
       "      <th>blood_pressure</th>\n",
       "      <th>specific_gravity</th>\n",
       "      <th>albumin</th>\n",
       "      <th>sugar</th>\n",
       "      <th>red_blood_cells</th>\n",
       "      <th>pus_cell</th>\n",
       "      <th>pus_cell_clumps</th>\n",
       "      <th>bacteria</th>\n",
       "      <th>blood_gulucose_random</th>\n",
       "      <th>...</th>\n",
       "      <th>packed_cell_volume</th>\n",
       "      <th>white_blood_cell_count</th>\n",
       "      <th>red_blood_cell_count</th>\n",
       "      <th>hypertension</th>\n",
       "      <th>diabetes_mallitus</th>\n",
       "      <th>coronary_artery_disease</th>\n",
       "      <th>appetite</th>\n",
       "      <th>peda_edema</th>\n",
       "      <th>anaemia</th>\n",
       "      <th>class</th>\n",
       "    </tr>\n",
       "  </thead>\n",
       "  <tbody>\n",
       "    <tr>\n",
       "      <th>0</th>\n",
       "      <td>48.0</td>\n",
       "      <td>80.0</td>\n",
       "      <td>1.020</td>\n",
       "      <td>1.0</td>\n",
       "      <td>0.0</td>\n",
       "      <td>NaN</td>\n",
       "      <td>normal</td>\n",
       "      <td>notpresent</td>\n",
       "      <td>notpresent</td>\n",
       "      <td>121.0</td>\n",
       "      <td>...</td>\n",
       "      <td>44.0</td>\n",
       "      <td>7800.0</td>\n",
       "      <td>7800.0</td>\n",
       "      <td>yes</td>\n",
       "      <td>yes</td>\n",
       "      <td>no</td>\n",
       "      <td>good</td>\n",
       "      <td>no</td>\n",
       "      <td>no</td>\n",
       "      <td>ckd</td>\n",
       "    </tr>\n",
       "    <tr>\n",
       "      <th>1</th>\n",
       "      <td>7.0</td>\n",
       "      <td>50.0</td>\n",
       "      <td>1.020</td>\n",
       "      <td>4.0</td>\n",
       "      <td>0.0</td>\n",
       "      <td>NaN</td>\n",
       "      <td>normal</td>\n",
       "      <td>notpresent</td>\n",
       "      <td>notpresent</td>\n",
       "      <td>NaN</td>\n",
       "      <td>...</td>\n",
       "      <td>38.0</td>\n",
       "      <td>6000.0</td>\n",
       "      <td>6000.0</td>\n",
       "      <td>no</td>\n",
       "      <td>no</td>\n",
       "      <td>no</td>\n",
       "      <td>good</td>\n",
       "      <td>no</td>\n",
       "      <td>no</td>\n",
       "      <td>ckd</td>\n",
       "    </tr>\n",
       "    <tr>\n",
       "      <th>2</th>\n",
       "      <td>62.0</td>\n",
       "      <td>80.0</td>\n",
       "      <td>1.010</td>\n",
       "      <td>2.0</td>\n",
       "      <td>3.0</td>\n",
       "      <td>normal</td>\n",
       "      <td>normal</td>\n",
       "      <td>notpresent</td>\n",
       "      <td>notpresent</td>\n",
       "      <td>423.0</td>\n",
       "      <td>...</td>\n",
       "      <td>31.0</td>\n",
       "      <td>7500.0</td>\n",
       "      <td>7500.0</td>\n",
       "      <td>no</td>\n",
       "      <td>yes</td>\n",
       "      <td>no</td>\n",
       "      <td>poor</td>\n",
       "      <td>no</td>\n",
       "      <td>yes</td>\n",
       "      <td>ckd</td>\n",
       "    </tr>\n",
       "    <tr>\n",
       "      <th>3</th>\n",
       "      <td>48.0</td>\n",
       "      <td>70.0</td>\n",
       "      <td>1.005</td>\n",
       "      <td>4.0</td>\n",
       "      <td>0.0</td>\n",
       "      <td>normal</td>\n",
       "      <td>abnormal</td>\n",
       "      <td>present</td>\n",
       "      <td>notpresent</td>\n",
       "      <td>117.0</td>\n",
       "      <td>...</td>\n",
       "      <td>32.0</td>\n",
       "      <td>6700.0</td>\n",
       "      <td>6700.0</td>\n",
       "      <td>yes</td>\n",
       "      <td>no</td>\n",
       "      <td>no</td>\n",
       "      <td>poor</td>\n",
       "      <td>yes</td>\n",
       "      <td>yes</td>\n",
       "      <td>ckd</td>\n",
       "    </tr>\n",
       "    <tr>\n",
       "      <th>4</th>\n",
       "      <td>51.0</td>\n",
       "      <td>80.0</td>\n",
       "      <td>1.010</td>\n",
       "      <td>2.0</td>\n",
       "      <td>0.0</td>\n",
       "      <td>normal</td>\n",
       "      <td>normal</td>\n",
       "      <td>notpresent</td>\n",
       "      <td>notpresent</td>\n",
       "      <td>106.0</td>\n",
       "      <td>...</td>\n",
       "      <td>35.0</td>\n",
       "      <td>7300.0</td>\n",
       "      <td>7300.0</td>\n",
       "      <td>no</td>\n",
       "      <td>no</td>\n",
       "      <td>no</td>\n",
       "      <td>good</td>\n",
       "      <td>no</td>\n",
       "      <td>no</td>\n",
       "      <td>ckd</td>\n",
       "    </tr>\n",
       "  </tbody>\n",
       "</table>\n",
       "<p>5 rows × 25 columns</p>\n",
       "</div>"
      ],
      "text/plain": [
       "    age  blood_pressure  specific_gravity  albumin  sugar red_blood_cells  \\\n",
       "0  48.0            80.0             1.020      1.0    0.0             NaN   \n",
       "1   7.0            50.0             1.020      4.0    0.0             NaN   \n",
       "2  62.0            80.0             1.010      2.0    3.0          normal   \n",
       "3  48.0            70.0             1.005      4.0    0.0          normal   \n",
       "4  51.0            80.0             1.010      2.0    0.0          normal   \n",
       "\n",
       "   pus_cell pus_cell_clumps    bacteria  blood_gulucose_random  ...  \\\n",
       "0    normal      notpresent  notpresent                  121.0  ...   \n",
       "1    normal      notpresent  notpresent                    NaN  ...   \n",
       "2    normal      notpresent  notpresent                  423.0  ...   \n",
       "3  abnormal         present  notpresent                  117.0  ...   \n",
       "4    normal      notpresent  notpresent                  106.0  ...   \n",
       "\n",
       "   packed_cell_volume  white_blood_cell_count  red_blood_cell_count  \\\n",
       "0                44.0                  7800.0                7800.0   \n",
       "1                38.0                  6000.0                6000.0   \n",
       "2                31.0                  7500.0                7500.0   \n",
       "3                32.0                  6700.0                6700.0   \n",
       "4                35.0                  7300.0                7300.0   \n",
       "\n",
       "   hypertension  diabetes_mallitus  coronary_artery_disease  appetite  \\\n",
       "0           yes                yes                       no      good   \n",
       "1            no                 no                       no      good   \n",
       "2            no                yes                       no      poor   \n",
       "3           yes                 no                       no      poor   \n",
       "4            no                 no                       no      good   \n",
       "\n",
       "   peda_edema anaemia class  \n",
       "0          no      no   ckd  \n",
       "1          no      no   ckd  \n",
       "2          no     yes   ckd  \n",
       "3         yes     yes   ckd  \n",
       "4          no      no   ckd  \n",
       "\n",
       "[5 rows x 25 columns]"
      ]
     },
     "execution_count": 32,
     "metadata": {},
     "output_type": "execute_result"
    }
   ],
   "source": [
    "kidney_data.head(5)"
   ]
  },
  {
   "cell_type": "code",
   "execution_count": 33,
   "id": "97565a30",
   "metadata": {},
   "outputs": [],
   "source": [
    "# map labels as 0 or 1\n",
    "# we will map as 0: no disease, 1: disease\n",
    "kidney_data['class'] = kidney_data['class'].map({'ckd': 0, 'not ckd': 1}) "
   ]
  },
  {
   "cell_type": "code",
   "execution_count": 34,
   "id": "b9c0ab93",
   "metadata": {},
   "outputs": [
    {
     "data": {
      "text/plain": [
       "0    0\n",
       "1    0\n",
       "2    0\n",
       "3    0\n",
       "Name: class, dtype: int64"
      ]
     },
     "execution_count": 34,
     "metadata": {},
     "output_type": "execute_result"
    }
   ],
   "source": [
    "kidney_data['class'].head(4)"
   ]
  },
  {
   "cell_type": "code",
   "execution_count": 35,
   "id": "aba50a2a",
   "metadata": {},
   "outputs": [
    {
     "data": {
      "text/plain": [
       "red_blood_cells            152\n",
       "red_blood_cell_count       106\n",
       "white_blood_cell_count     106\n",
       "potassium                   88\n",
       "sodium                      87\n",
       "packed_cell_volume          71\n",
       "pus_cell                    65\n",
       "haemoglobin                 52\n",
       "sugar                       49\n",
       "specific_gravity            47\n",
       "albumin                     46\n",
       "blood_gulucose_random       44\n",
       "blood_uera                  19\n",
       "serum_creatinine            17\n",
       "blood_pressure              12\n",
       "age                          9\n",
       "bacteria                     4\n",
       "pus_cell_clumps              4\n",
       "hypertension                 2\n",
       "diabetes_mallitus            2\n",
       "coronary_artery_disease      2\n",
       "appetite                     1\n",
       "peda_edema                   1\n",
       "anaemia                      1\n",
       "class                        0\n",
       "dtype: int64"
      ]
     },
     "execution_count": 35,
     "metadata": {},
     "output_type": "execute_result"
    }
   ],
   "source": [
    "# check for null or missing values\n",
    "kidney_data.isna().sum().sort_values(ascending=False)"
   ]
  },
  {
   "cell_type": "code",
   "execution_count": 36,
   "id": "9f34d496",
   "metadata": {},
   "outputs": [
    {
     "data": {
      "text/plain": [
       "array([  9,  12,  47,  46,  49, 152,  65,   4,   4,  44,  19,  17,  87,\n",
       "        88,  52,  71, 106, 106,   2,   2,   2,   1,   1,   1,   0],\n",
       "      dtype=int64)"
      ]
     },
     "execution_count": 36,
     "metadata": {},
     "output_type": "execute_result"
    }
   ],
   "source": [
    "# checking for sum of null values in each column\n",
    "kidney_data.isna().sum().to_numpy()"
   ]
  },
  {
   "cell_type": "markdown",
   "id": "3367cd17",
   "metadata": {},
   "source": [
    "Each column in our data contains missing, null or NaN values, which need to be cleaned. We will perform imputation technique to remove these null values."
   ]
  },
  {
   "cell_type": "markdown",
   "id": "13b799a0",
   "metadata": {},
   "source": [
    "### Performing Imputation to Remove Missing Values"
   ]
  },
  {
   "cell_type": "code",
   "execution_count": 37,
   "id": "e5f2d435",
   "metadata": {},
   "outputs": [],
   "source": [
    "# making an imputation function\n",
    "def random_imputation(x):\n",
    "    random_sample = kidney_data[x].dropna().sample(kidney_data[x].isna().sum())\n",
    "    random_sample.index = kidney_data[kidney_data[x].isnull()].index\n",
    "    kidney_data.loc[kidney_data[x].isnull(), x] = random_sample\n",
    "\n",
    "# define imputation mode    \n",
    "def imputation_mode(x):\n",
    "    mode = kidney_data[x].mode()[0]\n",
    "    kidney_data[x] = kidney_data[x].fillna(mode)"
   ]
  },
  {
   "cell_type": "code",
   "execution_count": 38,
   "id": "a7df4632",
   "metadata": {},
   "outputs": [],
   "source": [
    "# apply function to columns\n",
    "for c in numeric_cols:\n",
    "    random_imputation(c)"
   ]
  },
  {
   "cell_type": "code",
   "execution_count": 39,
   "id": "f645ff2a",
   "metadata": {},
   "outputs": [
    {
     "data": {
      "text/plain": [
       "age                       0\n",
       "blood_pressure            0\n",
       "specific_gravity          0\n",
       "albumin                   0\n",
       "sugar                     0\n",
       "blood_gulucose_random     0\n",
       "blood_uera                0\n",
       "serum_creatinine          0\n",
       "sodium                    0\n",
       "potassium                 0\n",
       "haemoglobin               0\n",
       "packed_cell_volume        0\n",
       "white_blood_cell_count    0\n",
       "red_blood_cell_count      0\n",
       "dtype: int64"
      ]
     },
     "execution_count": 39,
     "metadata": {},
     "output_type": "execute_result"
    }
   ],
   "source": [
    "# check for null or missing values\n",
    "kidney_data[numeric_cols].isna().sum().sort_values(ascending=False)"
   ]
  },
  {
   "cell_type": "code",
   "execution_count": 40,
   "id": "72e0815d",
   "metadata": {},
   "outputs": [],
   "source": [
    "# clean categorical columns\n",
    "random_imputation('red_blood_cells')\n",
    "random_imputation('pus_cell')\n",
    "\n",
    "for c in cat_cols:\n",
    "    imputation_mode(c)"
   ]
  },
  {
   "cell_type": "code",
   "execution_count": 41,
   "id": "43f12e18",
   "metadata": {},
   "outputs": [
    {
     "data": {
      "text/plain": [
       "red_blood_cells            0\n",
       "pus_cell                   0\n",
       "pus_cell_clumps            0\n",
       "bacteria                   0\n",
       "hypertension               0\n",
       "diabetes_mallitus          0\n",
       "coronary_artery_disease    0\n",
       "appetite                   0\n",
       "peda_edema                 0\n",
       "anaemia                    0\n",
       "class                      0\n",
       "dtype: int64"
      ]
     },
     "execution_count": 41,
     "metadata": {},
     "output_type": "execute_result"
    }
   ],
   "source": [
    "# check for null or missing values\n",
    "kidney_data[cat_cols].isna().sum().sort_values(ascending=False)"
   ]
  },
  {
   "cell_type": "markdown",
   "id": "3c1ced23",
   "metadata": {},
   "source": [
    "We can now see that there is no missing, null or NaN value left in categorical features of dataset."
   ]
  },
  {
   "cell_type": "code",
   "execution_count": 42,
   "id": "0b097c27",
   "metadata": {},
   "outputs": [
    {
     "data": {
      "text/html": [
       "<div>\n",
       "<style scoped>\n",
       "    .dataframe tbody tr th:only-of-type {\n",
       "        vertical-align: middle;\n",
       "    }\n",
       "\n",
       "    .dataframe tbody tr th {\n",
       "        vertical-align: top;\n",
       "    }\n",
       "\n",
       "    .dataframe thead th {\n",
       "        text-align: right;\n",
       "    }\n",
       "</style>\n",
       "<table border=\"1\" class=\"dataframe\">\n",
       "  <thead>\n",
       "    <tr style=\"text-align: right;\">\n",
       "      <th></th>\n",
       "      <th>age</th>\n",
       "      <th>blood_pressure</th>\n",
       "      <th>specific_gravity</th>\n",
       "      <th>albumin</th>\n",
       "      <th>sugar</th>\n",
       "      <th>red_blood_cells</th>\n",
       "      <th>pus_cell</th>\n",
       "      <th>pus_cell_clumps</th>\n",
       "      <th>bacteria</th>\n",
       "      <th>blood_gulucose_random</th>\n",
       "      <th>...</th>\n",
       "      <th>packed_cell_volume</th>\n",
       "      <th>white_blood_cell_count</th>\n",
       "      <th>red_blood_cell_count</th>\n",
       "      <th>hypertension</th>\n",
       "      <th>diabetes_mallitus</th>\n",
       "      <th>coronary_artery_disease</th>\n",
       "      <th>appetite</th>\n",
       "      <th>peda_edema</th>\n",
       "      <th>anaemia</th>\n",
       "      <th>class</th>\n",
       "    </tr>\n",
       "  </thead>\n",
       "  <tbody>\n",
       "    <tr>\n",
       "      <th>0</th>\n",
       "      <td>48.0</td>\n",
       "      <td>80.0</td>\n",
       "      <td>1.02</td>\n",
       "      <td>1.0</td>\n",
       "      <td>0.0</td>\n",
       "      <td>normal</td>\n",
       "      <td>normal</td>\n",
       "      <td>notpresent</td>\n",
       "      <td>notpresent</td>\n",
       "      <td>121.0</td>\n",
       "      <td>...</td>\n",
       "      <td>44.0</td>\n",
       "      <td>7800.0</td>\n",
       "      <td>7800.0</td>\n",
       "      <td>yes</td>\n",
       "      <td>yes</td>\n",
       "      <td>no</td>\n",
       "      <td>good</td>\n",
       "      <td>no</td>\n",
       "      <td>no</td>\n",
       "      <td>0</td>\n",
       "    </tr>\n",
       "    <tr>\n",
       "      <th>1</th>\n",
       "      <td>7.0</td>\n",
       "      <td>50.0</td>\n",
       "      <td>1.02</td>\n",
       "      <td>4.0</td>\n",
       "      <td>0.0</td>\n",
       "      <td>abnormal</td>\n",
       "      <td>normal</td>\n",
       "      <td>notpresent</td>\n",
       "      <td>notpresent</td>\n",
       "      <td>165.0</td>\n",
       "      <td>...</td>\n",
       "      <td>38.0</td>\n",
       "      <td>6000.0</td>\n",
       "      <td>6000.0</td>\n",
       "      <td>no</td>\n",
       "      <td>no</td>\n",
       "      <td>no</td>\n",
       "      <td>good</td>\n",
       "      <td>no</td>\n",
       "      <td>no</td>\n",
       "      <td>0</td>\n",
       "    </tr>\n",
       "  </tbody>\n",
       "</table>\n",
       "<p>2 rows × 25 columns</p>\n",
       "</div>"
      ],
      "text/plain": [
       "    age  blood_pressure  specific_gravity  albumin  sugar red_blood_cells  \\\n",
       "0  48.0            80.0              1.02      1.0    0.0          normal   \n",
       "1   7.0            50.0              1.02      4.0    0.0        abnormal   \n",
       "\n",
       "  pus_cell pus_cell_clumps    bacteria  blood_gulucose_random  ...  \\\n",
       "0   normal      notpresent  notpresent                  121.0  ...   \n",
       "1   normal      notpresent  notpresent                  165.0  ...   \n",
       "\n",
       "   packed_cell_volume  white_blood_cell_count  red_blood_cell_count  \\\n",
       "0                44.0                  7800.0                7800.0   \n",
       "1                38.0                  6000.0                6000.0   \n",
       "\n",
       "   hypertension  diabetes_mallitus  coronary_artery_disease  appetite  \\\n",
       "0           yes                yes                       no      good   \n",
       "1            no                 no                       no      good   \n",
       "\n",
       "   peda_edema anaemia class  \n",
       "0          no      no     0  \n",
       "1          no      no     0  \n",
       "\n",
       "[2 rows x 25 columns]"
      ]
     },
     "execution_count": 42,
     "metadata": {},
     "output_type": "execute_result"
    }
   ],
   "source": [
    "# check data again\n",
    "kidney_data.head(2)"
   ]
  },
  {
   "cell_type": "code",
   "execution_count": 43,
   "id": "4328fdec",
   "metadata": {},
   "outputs": [
    {
     "data": {
      "text/plain": [
       "array([0, 0, 0, 0, 0, 0, 0, 0, 0, 0, 0, 0, 0, 0, 0, 0, 0, 0, 0, 0, 0, 0,\n",
       "       0, 0, 0], dtype=int64)"
      ]
     },
     "execution_count": 43,
     "metadata": {},
     "output_type": "execute_result"
    }
   ],
   "source": [
    "# checking for sum of null values in each column\n",
    "kidney_data.isna().sum().to_numpy()"
   ]
  },
  {
   "cell_type": "markdown",
   "id": "480885d4",
   "metadata": {},
   "source": [
    "### Label Encoding\n",
    "For converting all categorical columns to number form, we will perform **Label Encoding** to each of the feature, so that each feature may have all numbered values."
   ]
  },
  {
   "cell_type": "code",
   "execution_count": 44,
   "id": "8db184e9",
   "metadata": {},
   "outputs": [],
   "source": [
    "# initialize label encoder\n",
    "encoder = LabelEncoder()\n",
    "\n",
    "# convert all categorical cols to labels\n",
    "for column in cat_cols:\n",
    "    kidney_data[column] = encoder.fit_transform(kidney_data[column])  "
   ]
  },
  {
   "cell_type": "code",
   "execution_count": 45,
   "id": "2b1f4052",
   "metadata": {},
   "outputs": [
    {
     "data": {
      "text/html": [
       "<div>\n",
       "<style scoped>\n",
       "    .dataframe tbody tr th:only-of-type {\n",
       "        vertical-align: middle;\n",
       "    }\n",
       "\n",
       "    .dataframe tbody tr th {\n",
       "        vertical-align: top;\n",
       "    }\n",
       "\n",
       "    .dataframe thead th {\n",
       "        text-align: right;\n",
       "    }\n",
       "</style>\n",
       "<table border=\"1\" class=\"dataframe\">\n",
       "  <thead>\n",
       "    <tr style=\"text-align: right;\">\n",
       "      <th></th>\n",
       "      <th>age</th>\n",
       "      <th>blood_pressure</th>\n",
       "      <th>specific_gravity</th>\n",
       "      <th>albumin</th>\n",
       "      <th>sugar</th>\n",
       "      <th>red_blood_cells</th>\n",
       "      <th>pus_cell</th>\n",
       "      <th>pus_cell_clumps</th>\n",
       "      <th>bacteria</th>\n",
       "      <th>blood_gulucose_random</th>\n",
       "      <th>...</th>\n",
       "      <th>packed_cell_volume</th>\n",
       "      <th>white_blood_cell_count</th>\n",
       "      <th>red_blood_cell_count</th>\n",
       "      <th>hypertension</th>\n",
       "      <th>diabetes_mallitus</th>\n",
       "      <th>coronary_artery_disease</th>\n",
       "      <th>appetite</th>\n",
       "      <th>peda_edema</th>\n",
       "      <th>anaemia</th>\n",
       "      <th>class</th>\n",
       "    </tr>\n",
       "  </thead>\n",
       "  <tbody>\n",
       "    <tr>\n",
       "      <th>0</th>\n",
       "      <td>48.0</td>\n",
       "      <td>80.0</td>\n",
       "      <td>1.020</td>\n",
       "      <td>1.0</td>\n",
       "      <td>0.0</td>\n",
       "      <td>1</td>\n",
       "      <td>1</td>\n",
       "      <td>0</td>\n",
       "      <td>0</td>\n",
       "      <td>121.0</td>\n",
       "      <td>...</td>\n",
       "      <td>44.0</td>\n",
       "      <td>7800.0</td>\n",
       "      <td>7800.0</td>\n",
       "      <td>1</td>\n",
       "      <td>2</td>\n",
       "      <td>0</td>\n",
       "      <td>0</td>\n",
       "      <td>0</td>\n",
       "      <td>0</td>\n",
       "      <td>0</td>\n",
       "    </tr>\n",
       "    <tr>\n",
       "      <th>1</th>\n",
       "      <td>7.0</td>\n",
       "      <td>50.0</td>\n",
       "      <td>1.020</td>\n",
       "      <td>4.0</td>\n",
       "      <td>0.0</td>\n",
       "      <td>0</td>\n",
       "      <td>1</td>\n",
       "      <td>0</td>\n",
       "      <td>0</td>\n",
       "      <td>165.0</td>\n",
       "      <td>...</td>\n",
       "      <td>38.0</td>\n",
       "      <td>6000.0</td>\n",
       "      <td>6000.0</td>\n",
       "      <td>0</td>\n",
       "      <td>1</td>\n",
       "      <td>0</td>\n",
       "      <td>0</td>\n",
       "      <td>0</td>\n",
       "      <td>0</td>\n",
       "      <td>0</td>\n",
       "    </tr>\n",
       "    <tr>\n",
       "      <th>2</th>\n",
       "      <td>62.0</td>\n",
       "      <td>80.0</td>\n",
       "      <td>1.010</td>\n",
       "      <td>2.0</td>\n",
       "      <td>3.0</td>\n",
       "      <td>1</td>\n",
       "      <td>1</td>\n",
       "      <td>0</td>\n",
       "      <td>0</td>\n",
       "      <td>423.0</td>\n",
       "      <td>...</td>\n",
       "      <td>31.0</td>\n",
       "      <td>7500.0</td>\n",
       "      <td>7500.0</td>\n",
       "      <td>0</td>\n",
       "      <td>2</td>\n",
       "      <td>0</td>\n",
       "      <td>1</td>\n",
       "      <td>0</td>\n",
       "      <td>1</td>\n",
       "      <td>0</td>\n",
       "    </tr>\n",
       "    <tr>\n",
       "      <th>3</th>\n",
       "      <td>48.0</td>\n",
       "      <td>70.0</td>\n",
       "      <td>1.005</td>\n",
       "      <td>4.0</td>\n",
       "      <td>0.0</td>\n",
       "      <td>1</td>\n",
       "      <td>0</td>\n",
       "      <td>1</td>\n",
       "      <td>0</td>\n",
       "      <td>117.0</td>\n",
       "      <td>...</td>\n",
       "      <td>32.0</td>\n",
       "      <td>6700.0</td>\n",
       "      <td>6700.0</td>\n",
       "      <td>1</td>\n",
       "      <td>1</td>\n",
       "      <td>0</td>\n",
       "      <td>1</td>\n",
       "      <td>1</td>\n",
       "      <td>1</td>\n",
       "      <td>0</td>\n",
       "    </tr>\n",
       "    <tr>\n",
       "      <th>4</th>\n",
       "      <td>51.0</td>\n",
       "      <td>80.0</td>\n",
       "      <td>1.010</td>\n",
       "      <td>2.0</td>\n",
       "      <td>0.0</td>\n",
       "      <td>1</td>\n",
       "      <td>1</td>\n",
       "      <td>0</td>\n",
       "      <td>0</td>\n",
       "      <td>106.0</td>\n",
       "      <td>...</td>\n",
       "      <td>35.0</td>\n",
       "      <td>7300.0</td>\n",
       "      <td>7300.0</td>\n",
       "      <td>0</td>\n",
       "      <td>1</td>\n",
       "      <td>0</td>\n",
       "      <td>0</td>\n",
       "      <td>0</td>\n",
       "      <td>0</td>\n",
       "      <td>0</td>\n",
       "    </tr>\n",
       "  </tbody>\n",
       "</table>\n",
       "<p>5 rows × 25 columns</p>\n",
       "</div>"
      ],
      "text/plain": [
       "    age  blood_pressure  specific_gravity  albumin  sugar  red_blood_cells  \\\n",
       "0  48.0            80.0             1.020      1.0    0.0                1   \n",
       "1   7.0            50.0             1.020      4.0    0.0                0   \n",
       "2  62.0            80.0             1.010      2.0    3.0                1   \n",
       "3  48.0            70.0             1.005      4.0    0.0                1   \n",
       "4  51.0            80.0             1.010      2.0    0.0                1   \n",
       "\n",
       "   pus_cell  pus_cell_clumps  bacteria  blood_gulucose_random  ...  \\\n",
       "0         1                0         0                  121.0  ...   \n",
       "1         1                0         0                  165.0  ...   \n",
       "2         1                0         0                  423.0  ...   \n",
       "3         0                1         0                  117.0  ...   \n",
       "4         1                0         0                  106.0  ...   \n",
       "\n",
       "   packed_cell_volume  white_blood_cell_count  red_blood_cell_count  \\\n",
       "0                44.0                  7800.0                7800.0   \n",
       "1                38.0                  6000.0                6000.0   \n",
       "2                31.0                  7500.0                7500.0   \n",
       "3                32.0                  6700.0                6700.0   \n",
       "4                35.0                  7300.0                7300.0   \n",
       "\n",
       "   hypertension  diabetes_mallitus  coronary_artery_disease  appetite  \\\n",
       "0             1                  2                        0         0   \n",
       "1             0                  1                        0         0   \n",
       "2             0                  2                        0         1   \n",
       "3             1                  1                        0         1   \n",
       "4             0                  1                        0         0   \n",
       "\n",
       "   peda_edema  anaemia  class  \n",
       "0           0        0      0  \n",
       "1           0        0      0  \n",
       "2           0        1      0  \n",
       "3           1        1      0  \n",
       "4           0        0      0  \n",
       "\n",
       "[5 rows x 25 columns]"
      ]
     },
     "execution_count": 45,
     "metadata": {},
     "output_type": "execute_result"
    }
   ],
   "source": [
    "kidney_data.head(5)"
   ]
  },
  {
   "cell_type": "markdown",
   "id": "2ed01b43",
   "metadata": {},
   "source": [
    "### Conclusion\n",
    "After performing a complete data preprocessing process to our data, we have come out with the result that:\n",
    "* There is no null, missing or NaN valued feature left\n",
    "* There is no feature containing categorical data\n",
    "* Data is clean, preprocessed and is ready to be modeled"
   ]
  },
  {
   "cell_type": "code",
   "execution_count": 94,
   "id": "b51983eb",
   "metadata": {},
   "outputs": [],
   "source": [
    "# kidney_data.to_csv('cleaned_kidney_data.csv')"
   ]
  },
  {
   "cell_type": "markdown",
   "id": "cce89086",
   "metadata": {},
   "source": [
    "## Data Visualizations"
   ]
  },
  {
   "cell_type": "code",
   "execution_count": 49,
   "id": "078da5d9",
   "metadata": {},
   "outputs": [
    {
     "data": {
      "text/plain": [
       "<AxesSubplot:xlabel='class', ylabel='count'>"
      ]
     },
     "execution_count": 49,
     "metadata": {},
     "output_type": "execute_result"
    },
    {
     "data": {
      "image/png": "[encoded data removed]",
      "text/plain": [
       "<Figure size 576x396 with 1 Axes>"
      ]
     },
     "metadata": {},
     "output_type": "display_data"
    }
   ],
   "source": [
    "# make data visualizations\n",
    "sns.countplot(x=kidney_data['class'])"
   ]
  },
  {
   "cell_type": "code",
   "execution_count": 50,
   "id": "dc3cd5bb",
   "metadata": {},
   "outputs": [
    {
     "data": {
      "text/plain": [
       "<seaborn.axisgrid.FacetGrid at 0x2bd89b82580>"
      ]
     },
     "execution_count": 50,
     "metadata": {},
     "output_type": "execute_result"
    },
    {
     "data": {
      "image/png": "[encoded data removed]",
      "text/plain": [
       "<Figure size 360x360 with 1 Axes>"
      ]
     },
     "metadata": {},
     "output_type": "display_data"
    }
   ],
   "source": [
    "sns.displot(x=kidney_data['specific_gravity'], kde=True)"
   ]
  },
  {
   "cell_type": "markdown",
   "id": "e6a38dbe",
   "metadata": {},
   "source": [
    "## Set Predictors (X) and Target (Y) Values"
   ]
  },
  {
   "cell_type": "code",
   "execution_count": 52,
   "id": "d4ad1e68",
   "metadata": {},
   "outputs": [
    {
     "data": {
      "text/plain": [
       "((400, 24), (400,))"
      ]
     },
     "execution_count": 52,
     "metadata": {},
     "output_type": "execute_result"
    }
   ],
   "source": [
    "X = kidney_data.drop('class', axis=1)\n",
    "y = kidney_data['class']\n",
    "\n",
    "X.shape, y.shape"
   ]
  },
  {
   "cell_type": "markdown",
   "id": "e5795a96",
   "metadata": {},
   "source": [
    "## Feature Scaling\n",
    "For scaling the features to remove bias in data, we will use Min-Max Scaling as tool. The Min-Max Scaler performs such that:\n",
    "* All values are scaled in a given range\n",
    "* For our data, the range is set to (0, 1)"
   ]
  },
  {
   "cell_type": "code",
   "execution_count": 53,
   "id": "5fa6578f",
   "metadata": {},
   "outputs": [
    {
     "data": {
      "text/plain": [
       "array([0.52272727, 0.15384615, 0.        , 0.8       , 0.        ,\n",
       "       1.        , 0.        , 1.        , 0.        , 0.20299145,\n",
       "       0.13992298, 0.04497354, 0.67192429, 0.        , 0.55102041,\n",
       "       0.51111111, 0.18595041, 0.18595041, 1.        , 0.5       ,\n",
       "       0.        , 1.        , 1.        , 1.        ])"
      ]
     },
     "execution_count": 53,
     "metadata": {},
     "output_type": "execute_result"
    }
   ],
   "source": [
    "scaler = MinMaxScaler()\n",
    "X_scaled = scaler.fit_transform(X)\n",
    "\n",
    "X_scaled[3]"
   ]
  },
  {
   "cell_type": "markdown",
   "id": "d6ee7374",
   "metadata": {},
   "source": [
    "## Data Splicing\n",
    "For applying model, data needs to be split. We will use a ratio of **80-20** for our data such that:\n",
    "* 80% data is kept in training set\n",
    "* 20% data is kept in testing set"
   ]
  },
  {
   "cell_type": "code",
   "execution_count": 54,
   "id": "fb8e8830",
   "metadata": {},
   "outputs": [
    {
     "name": "stdout",
     "output_type": "stream",
     "text": [
      "(320, 24)\n",
      "(80, 24)\n",
      "(320,)\n",
      "(80,)\n"
     ]
    }
   ],
   "source": [
    "# make train/test splits\n",
    "\n",
    "X_train, X_test, Y_train, Y_test = train_test_split(X_scaled, y, \n",
    "                                                    test_size=0.2, stratify=y)\n",
    "\n",
    "print(X_train.shape)\n",
    "print(X_test.shape)\n",
    "print(Y_train.shape)\n",
    "print(Y_test.shape)"
   ]
  },
  {
   "cell_type": "markdown",
   "id": "37da16b1",
   "metadata": {},
   "source": [
    "## Apply Models\n",
    "We will use 6 (3 machine learning & 3 deep learning) models for classification task:\n",
    "* Support Vector Machine (SVM)\n",
    "* Random Forest Clasifier\n",
    "* Decision Tree Classifier\n",
    "* Artificial Neural Network (ANN)\n",
    "* Multi-Layered Perceptron (MLP)"
   ]
  },
  {
   "cell_type": "markdown",
   "id": "82926b67",
   "metadata": {},
   "source": [
    "### a. Applying Support Vector Machine (SVM)"
   ]
  },
  {
   "cell_type": "code",
   "execution_count": 55,
   "id": "d52fe5d2",
   "metadata": {},
   "outputs": [
    {
     "data": {
      "text/plain": [
       "SVC()"
      ]
     },
     "execution_count": 55,
     "metadata": {},
     "output_type": "execute_result"
    }
   ],
   "source": [
    "svc = SVC()\n",
    "svc.fit(X_train, Y_train)"
   ]
  },
  {
   "cell_type": "code",
   "execution_count": 56,
   "id": "8399b3a6",
   "metadata": {},
   "outputs": [
    {
     "data": {
      "text/plain": [
       "array([0, 1, 0, 1, 1, 0, 1, 0, 1, 0], dtype=int64)"
      ]
     },
     "execution_count": 56,
     "metadata": {},
     "output_type": "execute_result"
    }
   ],
   "source": [
    "# make predictions of test set\n",
    "y_pred_svm = svc.predict(X_test)\n",
    "y_pred_svm[:10]"
   ]
  },
  {
   "cell_type": "code",
   "execution_count": 57,
   "id": "e4b976fb",
   "metadata": {},
   "outputs": [
    {
     "name": "stdout",
     "output_type": "stream",
     "text": [
      "Accuracy of Support Vector Machine on train data: 0.98750\n",
      "Accuracy of Support Vector Machine on test data: 0.97\n"
     ]
    }
   ],
   "source": [
    "# calculate accuracies on train and test datasets\n",
    "print('Accuracy of Support Vector Machine on train data: %.5f' % svc.score(X_train, Y_train))\n",
    "print('Accuracy of Support Vector Machine on test data: %.2f' % svc.score(X_test, Y_test))"
   ]
  },
  {
   "cell_type": "code",
   "execution_count": 58,
   "id": "5780bc53",
   "metadata": {},
   "outputs": [
    {
     "data": {
      "text/html": [
       "<div>\n",
       "<style scoped>\n",
       "    .dataframe tbody tr th:only-of-type {\n",
       "        vertical-align: middle;\n",
       "    }\n",
       "\n",
       "    .dataframe tbody tr th {\n",
       "        vertical-align: top;\n",
       "    }\n",
       "\n",
       "    .dataframe thead th {\n",
       "        text-align: right;\n",
       "    }\n",
       "</style>\n",
       "<table border=\"1\" class=\"dataframe\">\n",
       "  <thead>\n",
       "    <tr style=\"text-align: right;\">\n",
       "      <th></th>\n",
       "      <th>Actual</th>\n",
       "      <th>Predicted</th>\n",
       "    </tr>\n",
       "  </thead>\n",
       "  <tbody>\n",
       "    <tr>\n",
       "      <th>12</th>\n",
       "      <td>0</td>\n",
       "      <td>0</td>\n",
       "    </tr>\n",
       "    <tr>\n",
       "      <th>396</th>\n",
       "      <td>1</td>\n",
       "      <td>1</td>\n",
       "    </tr>\n",
       "    <tr>\n",
       "      <th>0</th>\n",
       "      <td>0</td>\n",
       "      <td>0</td>\n",
       "    </tr>\n",
       "    <tr>\n",
       "      <th>308</th>\n",
       "      <td>1</td>\n",
       "      <td>1</td>\n",
       "    </tr>\n",
       "    <tr>\n",
       "      <th>315</th>\n",
       "      <td>1</td>\n",
       "      <td>1</td>\n",
       "    </tr>\n",
       "    <tr>\n",
       "      <th>188</th>\n",
       "      <td>0</td>\n",
       "      <td>0</td>\n",
       "    </tr>\n",
       "  </tbody>\n",
       "</table>\n",
       "</div>"
      ],
      "text/plain": [
       "     Actual  Predicted\n",
       "12        0          0\n",
       "396       1          1\n",
       "0         0          0\n",
       "308       1          1\n",
       "315       1          1\n",
       "188       0          0"
      ]
     },
     "execution_count": 58,
     "metadata": {},
     "output_type": "execute_result"
    }
   ],
   "source": [
    "df_svm = pd.DataFrame({'Actual': Y_test, 'Predicted': y_pred_svm})\n",
    "df_svm.head(6)"
   ]
  },
  {
   "cell_type": "code",
   "execution_count": 59,
   "id": "0a789219",
   "metadata": {},
   "outputs": [
    {
     "data": {
      "text/plain": [
       "array([[48,  2],\n",
       "       [ 0, 30]], dtype=int64)"
      ]
     },
     "execution_count": 59,
     "metadata": {},
     "output_type": "execute_result"
    }
   ],
   "source": [
    "# make confusion matrix\n",
    "confusion_matrix(Y_test, y_pred_svm)"
   ]
  },
  {
   "cell_type": "code",
   "execution_count": 60,
   "id": "84b718da",
   "metadata": {},
   "outputs": [
    {
     "name": "stderr",
     "output_type": "stream",
     "text": [
      "C:\\Anaconda\\lib\\site-packages\\sklearn\\utils\\deprecation.py:87: FutureWarning: Function plot_confusion_matrix is deprecated; Function `plot_confusion_matrix` is deprecated in 1.0 and will be removed in 1.2. Use one of the class methods: ConfusionMatrixDisplay.from_predictions or ConfusionMatrixDisplay.from_estimator.\n",
      "  warnings.warn(msg, category=FutureWarning)\n"
     ]
    },
    {
     "data": {
      "text/plain": [
       "<sklearn.metrics._plot.confusion_matrix.ConfusionMatrixDisplay at 0x2bd8a0165b0>"
      ]
     },
     "execution_count": 60,
     "metadata": {},
     "output_type": "execute_result"
    },
    {
     "data": {
      "image/png": "[encoded data removed]",
      "text/plain": [
       "<Figure size 576x396 with 2 Axes>"
      ]
     },
     "metadata": {},
     "output_type": "display_data"
    }
   ],
   "source": [
    "plot_confusion_matrix(svc, X_test, Y_test, normalize='all')"
   ]
  },
  {
   "cell_type": "code",
   "execution_count": 61,
   "id": "b446396e",
   "metadata": {},
   "outputs": [
    {
     "name": "stdout",
     "output_type": "stream",
     "text": [
      "              precision    recall  f1-score   support\n",
      "\n",
      "           0       1.00      0.96      0.98        50\n",
      "           1       0.94      1.00      0.97        30\n",
      "\n",
      "    accuracy                           0.97        80\n",
      "   macro avg       0.97      0.98      0.97        80\n",
      "weighted avg       0.98      0.97      0.98        80\n",
      "\n"
     ]
    }
   ],
   "source": [
    "print(classification_report(Y_test, y_pred_svm))"
   ]
  },
  {
   "cell_type": "code",
   "execution_count": 63,
   "id": "88fabcc6",
   "metadata": {},
   "outputs": [
    {
     "data": {
      "text/plain": [
       "<BarContainer object of 2 artists>"
      ]
     },
     "execution_count": 63,
     "metadata": {},
     "output_type": "execute_result"
    },
    {
     "data": {
      "image/png": "[encoded data removed]",
      "text/plain": [
       "<Figure size 720x360 with 1 Axes>"
      ]
     },
     "metadata": {},
     "output_type": "display_data"
    }
   ],
   "source": [
    "plt.figure(figsize=(10, 5))\n",
    "plt.ylabel('Accuracy')\n",
    "plt.title('Performance of SVM on Train and Test Dataset')\n",
    "clf = ['Train', 'Test']\n",
    "acc = [svc.score(X_train, Y_train), accuracy_score(Y_test, y_pred_svm)]\n",
    "\n",
    "plt.bar(clf, acc)"
   ]
  },
  {
   "cell_type": "markdown",
   "id": "12327cb6",
   "metadata": {},
   "source": [
    "### b. Decision Tree Classifier"
   ]
  },
  {
   "cell_type": "code",
   "execution_count": 92,
   "id": "6f18acf0",
   "metadata": {},
   "outputs": [
    {
     "data": {
      "text/plain": [
       "DecisionTreeClassifier()"
      ]
     },
     "execution_count": 92,
     "metadata": {},
     "output_type": "execute_result"
    }
   ],
   "source": [
    "dt = DecisionTreeClassifier(criterion='gini', \n",
    "                            splitter='best')\n",
    "# fit the model\n",
    "dt.fit(X_train, Y_train)"
   ]
  },
  {
   "cell_type": "code",
   "execution_count": 98,
   "id": "2e55d5db",
   "metadata": {},
   "outputs": [],
   "source": [
    "# make predictions using dt\n",
    "y_hat_dt = dt.predict(X_test, )"
   ]
  },
  {
   "cell_type": "code",
   "execution_count": 96,
   "id": "7dac5373",
   "metadata": {},
   "outputs": [
    {
     "name": "stdout",
     "output_type": "stream",
     "text": [
      "Accuracy of Decision Tree on train data: 1.000\n",
      "Accuracy of Decision Tree on test data: 0.97\n"
     ]
    }
   ],
   "source": [
    "# calculate accuracies on train and test datasets\n",
    "print('Accuracy of Decision Tree on train data: %.3f' % dt.score(X_train, Y_train))\n",
    "print('Accuracy of Decision Tree on test data: %.2f' % dt.score(X_test, Y_test))"
   ]
  },
  {
   "cell_type": "code",
   "execution_count": 112,
   "id": "73eec46f",
   "metadata": {},
   "outputs": [
    {
     "data": {
      "text/plain": [
       "array([[49,  1],\n",
       "       [ 1, 29]], dtype=int64)"
      ]
     },
     "execution_count": 112,
     "metadata": {},
     "output_type": "execute_result"
    }
   ],
   "source": [
    "# make confusion matrix\n",
    "cm = confusion_matrix(Y_test, y_hat_dt, labels=dt.classes_)\n",
    "cm"
   ]
  },
  {
   "cell_type": "code",
   "execution_count": 113,
   "id": "9e609893",
   "metadata": {
    "scrolled": true
   },
   "outputs": [
    {
     "data": {
      "text/plain": [
       "<sklearn.metrics._plot.confusion_matrix.ConfusionMatrixDisplay at 0x2bd8e988550>"
      ]
     },
     "execution_count": 113,
     "metadata": {},
     "output_type": "execute_result"
    },
    {
     "data": {
      "image/png": "[encoded data removed]",
      "text/plain": [
       "<Figure size 576x396 with 2 Axes>"
      ]
     },
     "metadata": {},
     "output_type": "display_data"
    }
   ],
   "source": [
    "matrix = ConfusionMatrixDisplay(cm, display_labels=dt.classes_)\n",
    "matrix.plot()"
   ]
  },
  {
   "cell_type": "markdown",
   "id": "27c7a8ac",
   "metadata": {},
   "source": [
    "### c. Random Forest Classifier"
   ]
  },
  {
   "cell_type": "code",
   "execution_count": 114,
   "id": "14d9ebc0",
   "metadata": {},
   "outputs": [
    {
     "data": {
      "text/plain": [
       "RandomForestClassifier()"
      ]
     },
     "execution_count": 114,
     "metadata": {},
     "output_type": "execute_result"
    }
   ],
   "source": [
    "rf = RandomForestClassifier(n_estimators=100, \n",
    "                            criterion='gini', \n",
    "                            max_features='auto')\n",
    "rf.fit(X_train, Y_train)"
   ]
  },
  {
   "cell_type": "code",
   "execution_count": 115,
   "id": "5d77ccf0",
   "metadata": {},
   "outputs": [],
   "source": [
    "y_hat_rf = rf.predict(X_test)"
   ]
  },
  {
   "cell_type": "code",
   "execution_count": 118,
   "id": "d0c50837",
   "metadata": {},
   "outputs": [
    {
     "name": "stdout",
     "output_type": "stream",
     "text": [
      "Accuracy of Random Forest on train data: 1.00000\n",
      "Accuracy of Random Forest on test data: 0.988\n"
     ]
    }
   ],
   "source": [
    "# calculate accuracies on train and test datasets\n",
    "print('Accuracy of Random Forest on train data: %.5f' % rf.score(X_train, Y_train))\n",
    "print('Accuracy of Random Forest on test data: %.3f' % rf.score(X_test, Y_test))"
   ]
  },
  {
   "cell_type": "code",
   "execution_count": 126,
   "id": "f658000d",
   "metadata": {},
   "outputs": [
    {
     "data": {
      "text/plain": [
       "array([[50,  0],\n",
       "       [ 1, 29]], dtype=int64)"
      ]
     },
     "execution_count": 126,
     "metadata": {},
     "output_type": "execute_result"
    }
   ],
   "source": [
    "# make confusion matrix\n",
    "cm = confusion_matrix(Y_test, y_hat_rf)\n",
    "cm"
   ]
  },
  {
   "cell_type": "code",
   "execution_count": 128,
   "id": "cca88441",
   "metadata": {},
   "outputs": [
    {
     "data": {
      "text/plain": [
       "Text(127.15, 0.5, 'Actual Values ')"
      ]
     },
     "execution_count": 128,
     "metadata": {},
     "output_type": "execute_result"
    },
    {
     "data": {
      "image/png": "[encoded data removed]",
      "text/plain": [
       "<Figure size 576x396 with 1 Axes>"
      ]
     },
     "metadata": {},
     "output_type": "display_data"
    }
   ],
   "source": [
    "ax = sns.heatmap(cm, square=True, annot=True, \n",
    "                 cmap='Blues', fmt='d', \n",
    "                 cbar=False)\n",
    "\n",
    "ax.set_title('Seaborn Confusion Matrix with Labels\\n\\n')\n",
    "ax.set_xlabel('\\nPredicted Values')\n",
    "ax.set_ylabel('Actual Values ')"
   ]
  },
  {
   "cell_type": "code",
   "execution_count": 129,
   "id": "68482ccc",
   "metadata": {},
   "outputs": [
    {
     "name": "stdout",
     "output_type": "stream",
     "text": [
      "              precision    recall  f1-score   support\n",
      "\n",
      "           0       0.98      1.00      0.99        50\n",
      "           1       1.00      0.97      0.98        30\n",
      "\n",
      "    accuracy                           0.99        80\n",
      "   macro avg       0.99      0.98      0.99        80\n",
      "weighted avg       0.99      0.99      0.99        80\n",
      "\n"
     ]
    }
   ],
   "source": [
    "print(classification_report(Y_test, y_hat_rf))"
   ]
  },
  {
   "cell_type": "code",
   "execution_count": 144,
   "id": "696df929",
   "metadata": {},
   "outputs": [
    {
     "data": {
      "text/plain": [
       "<BarContainer object of 3 artists>"
      ]
     },
     "execution_count": 144,
     "metadata": {},
     "output_type": "execute_result"
    },
    {
     "data": {
      "image/png": "[encoded data removed]",
      "text/plain": [
       "<Figure size 720x360 with 1 Axes>"
      ]
     },
     "metadata": {},
     "output_type": "display_data"
    }
   ],
   "source": [
    "# score = den.evaluate(X_test, Y_test, verbose=0)\n",
    "\n",
    "\n",
    "plt.figure(figsize=(10, 5))\n",
    "plt.ylabel('Accuracies')\n",
    "plt.title('Performance on Test Dataset (Machine Learning Classifiers)')\n",
    "clf = ['Support Vector Machine', 'Decision Tree', 'Random Forest']\n",
    "acc = [accuracy_score(Y_test, y_pred_svm), accuracy_score(Y_test, y_hat_dt), accuracy_score(Y_test, y_hat_rf)]\n",
    "\n",
    "plt.bar(clf, acc)"
   ]
  },
  {
   "cell_type": "markdown",
   "id": "ffceb9d2",
   "metadata": {},
   "source": [
    "### d. Multi-Layered Perceptron (MLP)"
   ]
  },
  {
   "cell_type": "code",
   "execution_count": 133,
   "id": "5186f5aa",
   "metadata": {},
   "outputs": [
    {
     "name": "stderr",
     "output_type": "stream",
     "text": [
      "C:\\Anaconda\\lib\\site-packages\\sklearn\\neural_network\\_multilayer_perceptron.py:692: ConvergenceWarning: Stochastic Optimizer: Maximum iterations (500) reached and the optimization hasn't converged yet.\n",
      "  warnings.warn(\n"
     ]
    },
    {
     "data": {
      "text/plain": [
       "MLPClassifier(max_iter=500, solver='sgd')"
      ]
     },
     "execution_count": 133,
     "metadata": {},
     "output_type": "execute_result"
    }
   ],
   "source": [
    "# initialize MLP classifier\n",
    "mlp = MLPClassifier(hidden_layer_sizes=(100,), \n",
    "                   activation='relu', solver='sgd', max_iter=500)\n",
    "\n",
    "# fit the model\n",
    "mlp.fit(X_train, Y_train)"
   ]
  },
  {
   "cell_type": "code",
   "execution_count": 135,
   "id": "2606bf90",
   "metadata": {},
   "outputs": [],
   "source": [
    "y_hat_mlp = mlp.predict(X_test)"
   ]
  },
  {
   "cell_type": "code",
   "execution_count": 136,
   "id": "1920af71",
   "metadata": {},
   "outputs": [
    {
     "name": "stdout",
     "output_type": "stream",
     "text": [
      "Accuracy of MLP on train data: 1.00000\n",
      "Accuracy of MLP on test data: 0.988\n"
     ]
    }
   ],
   "source": [
    "# calculate accuracies on train and test datasets\n",
    "print('Accuracy of MLP on train data: %.5f' % rf.score(X_train, Y_train))\n",
    "print('Accuracy of MLP on test data: %.3f' % rf.score(X_test, Y_test))"
   ]
  },
  {
   "cell_type": "code",
   "execution_count": 138,
   "id": "1a6b3319",
   "metadata": {},
   "outputs": [
    {
     "data": {
      "text/plain": [
       "array([[44,  6],\n",
       "       [ 0, 30]], dtype=int64)"
      ]
     },
     "execution_count": 138,
     "metadata": {},
     "output_type": "execute_result"
    }
   ],
   "source": [
    "# make confusion matrix\n",
    "cm = confusion_matrix(Y_test, y_hat_mlp)\n",
    "cm"
   ]
  },
  {
   "cell_type": "code",
   "execution_count": 140,
   "id": "46f06d71",
   "metadata": {},
   "outputs": [
    {
     "data": {
      "text/plain": [
       "Text(127.15, 0.5, 'Actual Values ')"
      ]
     },
     "execution_count": 140,
     "metadata": {},
     "output_type": "execute_result"
    },
    {
     "data": {
      "image/png": "[encoded data removed]",
      "text/plain": [
       "<Figure size 576x396 with 1 Axes>"
      ]
     },
     "metadata": {},
     "output_type": "display_data"
    }
   ],
   "source": [
    "ax = sns.heatmap(cm, square=True, annot=True, \n",
    "                 cmap='Blues', fmt='d', \n",
    "                 cbar=False)\n",
    "\n",
    "ax.set_title('Seaborn Confusion Matrix with Labels (MLP) \\n\\n')\n",
    "ax.set_xlabel('\\nPredicted Values')\n",
    "ax.set_ylabel('Actual Values ')"
   ]
  },
  {
   "cell_type": "code",
   "execution_count": 142,
   "id": "f0ed111a",
   "metadata": {},
   "outputs": [
    {
     "name": "stdout",
     "output_type": "stream",
     "text": [
      "              precision    recall  f1-score   support\n",
      "\n",
      "           0       1.00      0.88      0.94        50\n",
      "           1       0.83      1.00      0.91        30\n",
      "\n",
      "    accuracy                           0.93        80\n",
      "   macro avg       0.92      0.94      0.92        80\n",
      "weighted avg       0.94      0.93      0.93        80\n",
      "\n"
     ]
    }
   ],
   "source": [
    "print(classification_report(Y_test, y_hat_mlp))"
   ]
  },
  {
   "cell_type": "markdown",
   "id": "8f70b3fd",
   "metadata": {},
   "source": [
    "### e. Applying Deep Neural Network Network (DNN)"
   ]
  },
  {
   "cell_type": "code",
   "execution_count": 67,
   "id": "5345a21a",
   "metadata": {},
   "outputs": [],
   "source": [
    "# make ann function\n",
    "def deep_neural_network():\n",
    "    model = Sequential()\n",
    "    model.add(Dense(512, activation='relu'))\n",
    "    model.add(Dense(256, activation='relu'))\n",
    "    model.add(Dense(128, activation='relu'))\n",
    "    model.add(Dense(1, activation='sigmoid'))\n",
    "    \n",
    "    return model\n",
    "\n",
    "# call the function\n",
    "dnn = deep_neural_network()"
   ]
  },
  {
   "cell_type": "code",
   "execution_count": 79,
   "id": "df981cd4",
   "metadata": {},
   "outputs": [],
   "source": [
    "# compiling the model\n",
    "opt = Adam(0.01)\n",
    "\n",
    "dnn.compile(optimizer=opt, \n",
    "              loss='binary_crossentropy',  \n",
    "              metrics=['accuracy'])"
   ]
  },
  {
   "cell_type": "code",
   "execution_count": 80,
   "id": "98438637",
   "metadata": {},
   "outputs": [
    {
     "name": "stdout",
     "output_type": "stream",
     "text": [
      "Epoch 1/50\n",
      "8/8 [==============================] - 1s 26ms/step - loss: 0.5262 - accuracy: 0.7578 - val_loss: 0.2143 - val_accuracy: 0.9375\n",
      "Epoch 2/50\n",
      "8/8 [==============================] - 0s 9ms/step - loss: 0.1352 - accuracy: 0.9453 - val_loss: 0.0467 - val_accuracy: 0.9688\n",
      "Epoch 3/50\n",
      "8/8 [==============================] - 0s 9ms/step - loss: 0.0574 - accuracy: 0.9805 - val_loss: 0.0409 - val_accuracy: 0.9844\n",
      "Epoch 4/50\n",
      "8/8 [==============================] - 0s 7ms/step - loss: 0.0448 - accuracy: 0.9922 - val_loss: 0.0222 - val_accuracy: 0.9844\n",
      "Epoch 5/50\n",
      "8/8 [==============================] - 0s 9ms/step - loss: 0.0618 - accuracy: 0.9609 - val_loss: 0.0196 - val_accuracy: 0.9844\n",
      "Epoch 6/50\n",
      "8/8 [==============================] - 0s 8ms/step - loss: 0.0303 - accuracy: 0.9883 - val_loss: 0.0075 - val_accuracy: 1.0000\n",
      "Epoch 7/50\n",
      "8/8 [==============================] - 0s 15ms/step - loss: 0.0670 - accuracy: 0.9766 - val_loss: 0.0821 - val_accuracy: 0.9844\n",
      "Epoch 8/50\n",
      "8/8 [==============================] - 0s 13ms/step - loss: 0.0732 - accuracy: 0.9766 - val_loss: 0.0169 - val_accuracy: 1.0000\n",
      "Epoch 9/50\n",
      "8/8 [==============================] - 0s 12ms/step - loss: 0.0344 - accuracy: 0.9922 - val_loss: 0.0402 - val_accuracy: 0.9844\n",
      "Epoch 10/50\n",
      "8/8 [==============================] - 0s 9ms/step - loss: 0.0242 - accuracy: 0.9961 - val_loss: 0.0051 - val_accuracy: 1.0000\n",
      "Epoch 11/50\n",
      "8/8 [==============================] - 0s 9ms/step - loss: 0.0275 - accuracy: 0.9883 - val_loss: 0.0110 - val_accuracy: 1.0000\n",
      "Epoch 12/50\n",
      "8/8 [==============================] - 0s 11ms/step - loss: 0.0248 - accuracy: 0.9922 - val_loss: 0.0570 - val_accuracy: 0.9844\n",
      "Epoch 13/50\n",
      "8/8 [==============================] - 0s 11ms/step - loss: 0.0297 - accuracy: 0.9922 - val_loss: 0.0083 - val_accuracy: 1.0000\n",
      "Epoch 14/50\n",
      "8/8 [==============================] - 0s 10ms/step - loss: 0.0256 - accuracy: 0.9883 - val_loss: 0.0864 - val_accuracy: 0.9844\n",
      "Epoch 15/50\n",
      "8/8 [==============================] - 0s 8ms/step - loss: 0.0380 - accuracy: 0.9805 - val_loss: 0.0414 - val_accuracy: 0.9844\n",
      "Epoch 16/50\n",
      "8/8 [==============================] - 0s 7ms/step - loss: 0.0201 - accuracy: 0.9961 - val_loss: 0.0724 - val_accuracy: 0.9844\n",
      "Epoch 17/50\n",
      "8/8 [==============================] - 0s 9ms/step - loss: 0.0220 - accuracy: 0.9922 - val_loss: 0.0941 - val_accuracy: 0.9844\n",
      "Epoch 18/50\n",
      "8/8 [==============================] - 0s 8ms/step - loss: 0.0170 - accuracy: 0.9922 - val_loss: 0.0097 - val_accuracy: 1.0000\n",
      "Epoch 19/50\n",
      "8/8 [==============================] - 0s 52ms/step - loss: 0.0278 - accuracy: 0.9922 - val_loss: 0.0886 - val_accuracy: 0.9844\n",
      "Epoch 20/50\n",
      "8/8 [==============================] - 0s 10ms/step - loss: 0.0948 - accuracy: 0.9688 - val_loss: 0.0182 - val_accuracy: 0.9844\n",
      "Epoch 21/50\n",
      "8/8 [==============================] - 0s 10ms/step - loss: 0.0387 - accuracy: 0.9883 - val_loss: 0.0637 - val_accuracy: 0.9844\n",
      "Epoch 22/50\n",
      "8/8 [==============================] - 0s 6ms/step - loss: 0.0229 - accuracy: 0.9922 - val_loss: 0.0164 - val_accuracy: 0.9844\n",
      "Epoch 23/50\n",
      "8/8 [==============================] - ETA: 0s - loss: 0.0017 - accuracy: 1.00 - 0s 7ms/step - loss: 0.0174 - accuracy: 0.9961 - val_loss: 0.0913 - val_accuracy: 0.9844\n",
      "Epoch 24/50\n",
      "8/8 [==============================] - 0s 7ms/step - loss: 0.0463 - accuracy: 0.9883 - val_loss: 0.0089 - val_accuracy: 1.0000\n",
      "Epoch 25/50\n",
      "8/8 [==============================] - 0s 9ms/step - loss: 0.0353 - accuracy: 0.9844 - val_loss: 0.0171 - val_accuracy: 0.9844\n",
      "Epoch 26/50\n",
      "8/8 [==============================] - 0s 7ms/step - loss: 0.0368 - accuracy: 0.9844 - val_loss: 0.0238 - val_accuracy: 0.9844\n",
      "Epoch 27/50\n",
      "8/8 [==============================] - 0s 7ms/step - loss: 0.0253 - accuracy: 0.9922 - val_loss: 0.0329 - val_accuracy: 0.9844\n",
      "Epoch 28/50\n",
      "8/8 [==============================] - 0s 10ms/step - loss: 0.0209 - accuracy: 0.9922 - val_loss: 0.0528 - val_accuracy: 0.9844\n",
      "Epoch 29/50\n",
      "8/8 [==============================] - 0s 11ms/step - loss: 0.0177 - accuracy: 0.9961 - val_loss: 0.0827 - val_accuracy: 0.9844\n",
      "Epoch 30/50\n",
      "8/8 [==============================] - 0s 10ms/step - loss: 0.0164 - accuracy: 0.9961 - val_loss: 0.0953 - val_accuracy: 0.9844\n",
      "Epoch 31/50\n",
      "8/8 [==============================] - 0s 9ms/step - loss: 0.0138 - accuracy: 0.9922 - val_loss: 0.0628 - val_accuracy: 0.9844\n",
      "Epoch 32/50\n",
      "8/8 [==============================] - 0s 7ms/step - loss: 0.0248 - accuracy: 0.9922 - val_loss: 0.0423 - val_accuracy: 0.9844\n",
      "Epoch 33/50\n",
      "8/8 [==============================] - 0s 8ms/step - loss: 0.0154 - accuracy: 0.9961 - val_loss: 0.0592 - val_accuracy: 0.9844\n",
      "Epoch 34/50\n",
      "8/8 [==============================] - 0s 6ms/step - loss: 0.0198 - accuracy: 0.9922 - val_loss: 0.0766 - val_accuracy: 0.9844\n",
      "Epoch 35/50\n",
      "8/8 [==============================] - 0s 7ms/step - loss: 0.0145 - accuracy: 0.9961 - val_loss: 0.1112 - val_accuracy: 0.9844\n",
      "Epoch 36/50\n",
      "8/8 [==============================] - 0s 6ms/step - loss: 0.0132 - accuracy: 0.9961 - val_loss: 0.1333 - val_accuracy: 0.9844\n",
      "Epoch 37/50\n",
      "8/8 [==============================] - 0s 7ms/step - loss: 0.0126 - accuracy: 0.9961 - val_loss: 0.1880 - val_accuracy: 0.9844\n",
      "Epoch 38/50\n",
      "8/8 [==============================] - 0s 7ms/step - loss: 0.0341 - accuracy: 0.9883 - val_loss: 0.0478 - val_accuracy: 0.9844\n",
      "Epoch 39/50\n",
      "8/8 [==============================] - 0s 7ms/step - loss: 0.0857 - accuracy: 0.9805 - val_loss: 0.0981 - val_accuracy: 0.9531\n",
      "Epoch 40/50\n",
      "8/8 [==============================] - 0s 6ms/step - loss: 0.1541 - accuracy: 0.9492 - val_loss: 0.1482 - val_accuracy: 0.9844\n",
      "Epoch 41/50\n",
      "8/8 [==============================] - 0s 6ms/step - loss: 0.0882 - accuracy: 0.9883 - val_loss: 0.0521 - val_accuracy: 0.9844\n",
      "Epoch 42/50\n",
      "8/8 [==============================] - 0s 7ms/step - loss: 0.0373 - accuracy: 0.9922 - val_loss: 0.0906 - val_accuracy: 0.9844\n",
      "Epoch 43/50\n",
      "8/8 [==============================] - 0s 6ms/step - loss: 0.0761 - accuracy: 0.9766 - val_loss: 0.0460 - val_accuracy: 0.9844\n",
      "Epoch 44/50\n",
      "8/8 [==============================] - 0s 7ms/step - loss: 0.0631 - accuracy: 0.9727 - val_loss: 0.0342 - val_accuracy: 0.9844\n",
      "Epoch 45/50\n",
      "8/8 [==============================] - 0s 8ms/step - loss: 0.0520 - accuracy: 0.9805 - val_loss: 0.1018 - val_accuracy: 0.9844\n",
      "Epoch 46/50\n",
      "8/8 [==============================] - 0s 7ms/step - loss: 0.0282 - accuracy: 0.9883 - val_loss: 0.0052 - val_accuracy: 1.0000\n",
      "Epoch 47/50\n",
      "8/8 [==============================] - 0s 7ms/step - loss: 0.0220 - accuracy: 0.9883 - val_loss: 0.0896 - val_accuracy: 0.9844\n",
      "Epoch 48/50\n",
      "8/8 [==============================] - 0s 7ms/step - loss: 0.0175 - accuracy: 0.9922 - val_loss: 0.0091 - val_accuracy: 1.0000\n",
      "Epoch 49/50\n",
      "8/8 [==============================] - 0s 6ms/step - loss: 0.0196 - accuracy: 0.9922 - val_loss: 0.0122 - val_accuracy: 0.9844\n",
      "Epoch 50/50\n",
      "8/8 [==============================] - 0s 6ms/step - loss: 0.0100 - accuracy: 0.9961 - val_loss: 0.0991 - val_accuracy: 0.9844\n"
     ]
    }
   ],
   "source": [
    "# fit the model to data\n",
    "history = dnn.fit(X_train, Y_train, \n",
    "                    epochs=50, verbose=1, validation_split=0.2)"
   ]
  },
  {
   "cell_type": "code",
   "execution_count": 82,
   "id": "531a6ca5",
   "metadata": {},
   "outputs": [
    {
     "name": "stdout",
     "output_type": "stream",
     "text": [
      "Model: \"sequential_2\"\n",
      "_________________________________________________________________\n",
      " Layer (type)                Output Shape              Param #   \n",
      "=================================================================\n",
      " dense_8 (Dense)             (None, 512)               12800     \n",
      "                                                                 \n",
      " dense_9 (Dense)             (None, 256)               131328    \n",
      "                                                                 \n",
      " dense_10 (Dense)            (None, 128)               32896     \n",
      "                                                                 \n",
      " dense_11 (Dense)            (None, 1)                 129       \n",
      "                                                                 \n",
      "=================================================================\n",
      "Total params: 177,153\n",
      "Trainable params: 177,153\n",
      "Non-trainable params: 0\n",
      "_________________________________________________________________\n"
     ]
    }
   ],
   "source": [
    "# print model summary\n",
    "dnn.summary()"
   ]
  },
  {
   "cell_type": "code",
   "execution_count": 149,
   "id": "9392bca0",
   "metadata": {},
   "outputs": [
    {
     "name": "stdout",
     "output_type": "stream",
     "text": [
      "3/3 [==============================] - 0s 3ms/step - loss: 0.0542 - accuracy: 0.9750\n",
      "accuracy: 97.50%\n"
     ]
    }
   ],
   "source": [
    "# evaluate the model\n",
    "score = dnn.evaluate(X_test, Y_test)\n",
    "print(\"%s: %.2f%%\" % (dnn.metrics_names[1], score[1] * 100))"
   ]
  },
  {
   "cell_type": "markdown",
   "id": "90b0780b",
   "metadata": {},
   "source": [
    "### Visualization of Results\n",
    "We will make a graph that shows the loss and accuracy of model on training and testing data. We will make 2 graphs as:\n",
    "* One graph shows the accuracy on training and testing datasets\n",
    "* Second graph shows the loss on training and testing datasets"
   ]
  },
  {
   "cell_type": "markdown",
   "id": "1aea7b97",
   "metadata": {},
   "source": [
    "### Graph 1 - Train/Test Accuracy"
   ]
  },
  {
   "cell_type": "code",
   "execution_count": 85,
   "id": "f53f8cc1",
   "metadata": {},
   "outputs": [
    {
     "data": {
      "text/plain": [
       "<matplotlib.legend.Legend at 0x2bd8e892310>"
      ]
     },
     "execution_count": 85,
     "metadata": {},
     "output_type": "execute_result"
    },
    {
     "data": {
      "image/png": "[encoded data removed]",
      "text/plain": [
       "<Figure size 720x360 with 1 Axes>"
      ]
     },
     "metadata": {},
     "output_type": "display_data"
    }
   ],
   "source": [
    "his = history.history\n",
    "epochs = range(1, len(his['loss']) + 1)\n",
    "loss = his['loss']\n",
    "val_loss = his['val_loss']\n",
    "acc = his['accuracy']\n",
    "val_acc = his['val_accuracy']\n",
    "\n",
    "# make a graph of train/test acc\n",
    "plt.figure(figsize=(10, 5))\n",
    "plt.title('Training and Testing Accuracy (Deep Neural Network)')\n",
    "plt.xlabel('Epochs')\n",
    "plt.ylabel('Accuracy')\n",
    "plt.plot(epochs, acc, label='training accuracy', color='blue')\n",
    "plt.plot(epochs, val_acc, label='testing accuracy', color='g')\n",
    "plt.legend()"
   ]
  },
  {
   "cell_type": "markdown",
   "id": "924a963b",
   "metadata": {},
   "source": [
    "### Graph 2 - Train/Test Loss"
   ]
  },
  {
   "cell_type": "code",
   "execution_count": 86,
   "id": "d1cbc7c1",
   "metadata": {},
   "outputs": [
    {
     "data": {
      "text/plain": [
       "<matplotlib.legend.Legend at 0x2bd8e9751c0>"
      ]
     },
     "execution_count": 86,
     "metadata": {},
     "output_type": "execute_result"
    },
    {
     "data": {
      "image/png": "[encoded data removed]",
      "text/plain": [
       "<Figure size 720x360 with 1 Axes>"
      ]
     },
     "metadata": {},
     "output_type": "display_data"
    }
   ],
   "source": [
    "# make a graph of train/test loss\n",
    "plt.figure(figsize=(10, 5))\n",
    "plt.title('Training and Testing Loss (Deep Neural Network)')\n",
    "plt.xlabel('Epochs')\n",
    "plt.ylabel('Loss')\n",
    "plt.plot(epochs, loss, label='training loss', color='blue')\n",
    "plt.plot(epochs, val_loss, label='testing loss', color='g')\n",
    "plt.legend()"
   ]
  },
  {
   "cell_type": "code",
   "execution_count": 88,
   "id": "5eab4813",
   "metadata": {},
   "outputs": [
    {
     "data": {
      "text/plain": [
       "array([[0.0000000e+00],\n",
       "       [9.9993384e-01],\n",
       "       [3.4062392e-15],\n",
       "       [9.9943352e-01],\n",
       "       [9.9868298e-01]], dtype=float32)"
      ]
     },
     "execution_count": 88,
     "metadata": {},
     "output_type": "execute_result"
    }
   ],
   "source": [
    "# check predictions made by deep neural network\n",
    "y_hat_dnn = dnn.predict(X_test)\n",
    "y_hat_dnn[:5]"
   ]
  },
  {
   "cell_type": "code",
   "execution_count": 89,
   "id": "216eae6f",
   "metadata": {},
   "outputs": [
    {
     "data": {
      "text/plain": [
       "array([[0],\n",
       "       [1],\n",
       "       [0],\n",
       "       [1],\n",
       "       [1]])"
      ]
     },
     "execution_count": 89,
     "metadata": {},
     "output_type": "execute_result"
    }
   ],
   "source": [
    "# make class predictions with dnn\n",
    "predictions = (dnn.predict(X_test) > 0.5).astype(int)\n",
    "predictions[:5]"
   ]
  },
  {
   "cell_type": "code",
   "execution_count": 90,
   "id": "0bf099e8",
   "metadata": {},
   "outputs": [
    {
     "name": "stdout",
     "output_type": "stream",
     "text": [
      "              precision    recall  f1-score   support\n",
      "\n",
      "           0       0.98      0.98      0.98        50\n",
      "           1       0.97      0.97      0.97        30\n",
      "\n",
      "    accuracy                           0.97        80\n",
      "   macro avg       0.97      0.97      0.97        80\n",
      "weighted avg       0.97      0.97      0.97        80\n",
      "\n"
     ]
    }
   ],
   "source": [
    "# make classification report\n",
    "print(classification_report(Y_test, predictions))"
   ]
  },
  {
   "cell_type": "code",
   "execution_count": 91,
   "id": "70d555cc",
   "metadata": {},
   "outputs": [
    {
     "data": {
      "text/plain": [
       "array([[49,  1],\n",
       "       [ 1, 29]], dtype=int64)"
      ]
     },
     "execution_count": 91,
     "metadata": {},
     "output_type": "execute_result"
    }
   ],
   "source": [
    "# print confusion matrix\n",
    "confusion_matrix(Y_test, predictions)"
   ]
  },
  {
   "cell_type": "markdown",
   "id": "ffeb3ca2",
   "metadata": {},
   "source": [
    "### e. Deep Neural Network (DNN) - V2"
   ]
  },
  {
   "cell_type": "code",
   "execution_count": 145,
   "id": "d0105b5c",
   "metadata": {},
   "outputs": [],
   "source": [
    "# make ann function\n",
    "def deep_neural_network_v2():\n",
    "    model = Sequential()\n",
    "    model.add(Dense(256, activation='relu'))\n",
    "    model.add(Dense(128, activation='relu'))\n",
    "    model.add(Dense(64, activation='relu'))\n",
    "    model.add(Dense(1, activation='sigmoid'))\n",
    "    \n",
    "    return model\n",
    "\n",
    "# call the function\n",
    "dnn_v2 = deep_neural_network_v2()"
   ]
  },
  {
   "cell_type": "code",
   "execution_count": 146,
   "id": "e0e3298f",
   "metadata": {},
   "outputs": [],
   "source": [
    "# compiling the model\n",
    "opt = Adam(0.01)\n",
    "\n",
    "dnn_v2.compile(optimizer=opt, \n",
    "              loss='binary_crossentropy',  \n",
    "              metrics=['accuracy'])"
   ]
  },
  {
   "cell_type": "code",
   "execution_count": 150,
   "id": "f0c27d82",
   "metadata": {},
   "outputs": [
    {
     "name": "stdout",
     "output_type": "stream",
     "text": [
      "Epoch 1/100\n",
      "8/8 [==============================] - 0s 10ms/step - loss: 0.0266 - accuracy: 0.9883 - val_loss: 0.0676 - val_accuracy: 0.9844\n",
      "Epoch 2/100\n",
      "8/8 [==============================] - 0s 6ms/step - loss: 0.0186 - accuracy: 1.0000 - val_loss: 0.0325 - val_accuracy: 0.9844\n",
      "Epoch 3/100\n",
      "8/8 [==============================] - 0s 6ms/step - loss: 0.0115 - accuracy: 0.9961 - val_loss: 0.0788 - val_accuracy: 0.9844\n",
      "Epoch 4/100\n",
      "8/8 [==============================] - 0s 6ms/step - loss: 0.0073 - accuracy: 0.9961 - val_loss: 0.1159 - val_accuracy: 0.9844\n",
      "Epoch 5/100\n",
      "8/8 [==============================] - 0s 6ms/step - loss: 0.0158 - accuracy: 0.9922 - val_loss: 0.0843 - val_accuracy: 0.9844\n",
      "Epoch 6/100\n",
      "8/8 [==============================] - 0s 6ms/step - loss: 0.0472 - accuracy: 0.9883 - val_loss: 0.0129 - val_accuracy: 0.9844\n",
      "Epoch 7/100\n",
      "8/8 [==============================] - 0s 6ms/step - loss: 0.0127 - accuracy: 0.9961 - val_loss: 0.0552 - val_accuracy: 0.9844\n",
      "Epoch 8/100\n",
      "8/8 [==============================] - 0s 6ms/step - loss: 0.0157 - accuracy: 0.9961 - val_loss: 0.0535 - val_accuracy: 0.9844\n",
      "Epoch 9/100\n",
      "8/8 [==============================] - 0s 6ms/step - loss: 0.0162 - accuracy: 0.9922 - val_loss: 0.0373 - val_accuracy: 0.9844\n",
      "Epoch 10/100\n",
      "8/8 [==============================] - 0s 6ms/step - loss: 0.0136 - accuracy: 0.9961 - val_loss: 0.1047 - val_accuracy: 0.9844\n",
      "Epoch 11/100\n",
      "8/8 [==============================] - 0s 6ms/step - loss: 0.0130 - accuracy: 0.9961 - val_loss: 0.0383 - val_accuracy: 0.9844\n",
      "Epoch 12/100\n",
      "8/8 [==============================] - 0s 6ms/step - loss: 0.0089 - accuracy: 0.9961 - val_loss: 0.1116 - val_accuracy: 0.9844\n",
      "Epoch 13/100\n",
      "8/8 [==============================] - 0s 7ms/step - loss: 0.0072 - accuracy: 1.0000 - val_loss: 0.1078 - val_accuracy: 0.9844\n",
      "Epoch 14/100\n",
      "8/8 [==============================] - 0s 6ms/step - loss: 0.0087 - accuracy: 0.9961 - val_loss: 0.0802 - val_accuracy: 0.9844\n",
      "Epoch 15/100\n",
      "8/8 [==============================] - 0s 6ms/step - loss: 0.0036 - accuracy: 1.0000 - val_loss: 0.1183 - val_accuracy: 0.9844\n",
      "Epoch 16/100\n",
      "8/8 [==============================] - 0s 6ms/step - loss: 0.0032 - accuracy: 1.0000 - val_loss: 0.1279 - val_accuracy: 0.9844\n",
      "Epoch 17/100\n",
      "8/8 [==============================] - 0s 7ms/step - loss: 0.0028 - accuracy: 1.0000 - val_loss: 0.1641 - val_accuracy: 0.9844\n",
      "Epoch 18/100\n",
      "8/8 [==============================] - 0s 6ms/step - loss: 0.0028 - accuracy: 1.0000 - val_loss: 0.0481 - val_accuracy: 0.9844\n",
      "Epoch 19/100\n",
      "8/8 [==============================] - 0s 6ms/step - loss: 0.0086 - accuracy: 0.9961 - val_loss: 0.2967 - val_accuracy: 0.9688\n",
      "Epoch 20/100\n",
      "8/8 [==============================] - 0s 6ms/step - loss: 0.0114 - accuracy: 0.9961 - val_loss: 0.0055 - val_accuracy: 1.0000\n",
      "Epoch 21/100\n",
      "8/8 [==============================] - 0s 14ms/step - loss: 0.0512 - accuracy: 0.9805 - val_loss: 0.0250 - val_accuracy: 0.9844\n",
      "Epoch 22/100\n",
      "8/8 [==============================] - 0s 8ms/step - loss: 0.0870 - accuracy: 0.9844 - val_loss: 0.0141 - val_accuracy: 1.0000\n",
      "Epoch 23/100\n",
      "8/8 [==============================] - 0s 9ms/step - loss: 0.0315 - accuracy: 0.9961 - val_loss: 0.0537 - val_accuracy: 0.9844\n",
      "Epoch 24/100\n",
      "8/8 [==============================] - 0s 10ms/step - loss: 0.0189 - accuracy: 0.9961 - val_loss: 0.0133 - val_accuracy: 0.9844\n",
      "Epoch 25/100\n",
      "8/8 [==============================] - 0s 6ms/step - loss: 0.0112 - accuracy: 0.9961 - val_loss: 0.0533 - val_accuracy: 0.9844\n",
      "Epoch 26/100\n",
      "8/8 [==============================] - 0s 7ms/step - loss: 0.0132 - accuracy: 0.9961 - val_loss: 0.1215 - val_accuracy: 0.9844\n",
      "Epoch 27/100\n",
      "8/8 [==============================] - 0s 7ms/step - loss: 0.0081 - accuracy: 0.9961 - val_loss: 0.0571 - val_accuracy: 0.9844\n",
      "Epoch 28/100\n",
      "8/8 [==============================] - 0s 7ms/step - loss: 0.0110 - accuracy: 0.9922 - val_loss: 0.1037 - val_accuracy: 0.9844\n",
      "Epoch 29/100\n",
      "8/8 [==============================] - 0s 6ms/step - loss: 0.0088 - accuracy: 0.9961 - val_loss: 0.0126 - val_accuracy: 0.9844\n",
      "Epoch 30/100\n",
      "8/8 [==============================] - 0s 7ms/step - loss: 0.0090 - accuracy: 0.9961 - val_loss: 0.0795 - val_accuracy: 0.9844\n",
      "Epoch 31/100\n",
      "8/8 [==============================] - 0s 6ms/step - loss: 0.0081 - accuracy: 0.9961 - val_loss: 0.0743 - val_accuracy: 0.9844\n",
      "Epoch 32/100\n",
      "8/8 [==============================] - 0s 6ms/step - loss: 0.0091 - accuracy: 0.9961 - val_loss: 0.0230 - val_accuracy: 0.9844\n",
      "Epoch 33/100\n",
      "8/8 [==============================] - 0s 7ms/step - loss: 0.0142 - accuracy: 0.9922 - val_loss: 0.0825 - val_accuracy: 0.9844\n",
      "Epoch 34/100\n",
      "8/8 [==============================] - 0s 7ms/step - loss: 0.0078 - accuracy: 0.9961 - val_loss: 0.0162 - val_accuracy: 0.9844\n",
      "Epoch 35/100\n",
      "8/8 [==============================] - 0s 6ms/step - loss: 0.0030 - accuracy: 1.0000 - val_loss: 0.0805 - val_accuracy: 0.9844\n",
      "Epoch 36/100\n",
      "8/8 [==============================] - 0s 6ms/step - loss: 0.0037 - accuracy: 1.0000 - val_loss: 0.0847 - val_accuracy: 0.9844\n",
      "Epoch 37/100\n",
      "8/8 [==============================] - 0s 6ms/step - loss: 0.0026 - accuracy: 1.0000 - val_loss: 0.0940 - val_accuracy: 0.9844\n",
      "Epoch 38/100\n",
      "8/8 [==============================] - 0s 7ms/step - loss: 0.0018 - accuracy: 1.0000 - val_loss: 0.1140 - val_accuracy: 0.9844\n",
      "Epoch 39/100\n",
      "8/8 [==============================] - 0s 6ms/step - loss: 0.0010 - accuracy: 1.0000 - val_loss: 0.1045 - val_accuracy: 0.9844\n",
      "Epoch 40/100\n",
      "8/8 [==============================] - 0s 7ms/step - loss: 9.6600e-04 - accuracy: 1.0000 - val_loss: 0.1428 - val_accuracy: 0.9844\n",
      "Epoch 41/100\n",
      "8/8 [==============================] - 0s 7ms/step - loss: 7.8179e-04 - accuracy: 1.0000 - val_loss: 0.1362 - val_accuracy: 0.9844\n",
      "Epoch 42/100\n",
      "8/8 [==============================] - 0s 7ms/step - loss: 4.0524e-04 - accuracy: 1.0000 - val_loss: 0.1214 - val_accuracy: 0.9844\n",
      "Epoch 43/100\n",
      "8/8 [==============================] - 0s 7ms/step - loss: 3.2972e-04 - accuracy: 1.0000 - val_loss: 0.1431 - val_accuracy: 0.9844\n",
      "Epoch 44/100\n",
      "8/8 [==============================] - 0s 7ms/step - loss: 2.6821e-04 - accuracy: 1.0000 - val_loss: 0.1448 - val_accuracy: 0.9844\n",
      "Epoch 45/100\n",
      "8/8 [==============================] - 0s 6ms/step - loss: 1.9195e-04 - accuracy: 1.0000 - val_loss: 0.1363 - val_accuracy: 0.9844\n",
      "Epoch 46/100\n",
      "8/8 [==============================] - 0s 6ms/step - loss: 1.6943e-04 - accuracy: 1.0000 - val_loss: 0.1377 - val_accuracy: 0.9844\n",
      "Epoch 47/100\n",
      "8/8 [==============================] - 0s 6ms/step - loss: 1.6561e-04 - accuracy: 1.0000 - val_loss: 0.1462 - val_accuracy: 0.9844\n",
      "Epoch 48/100\n",
      "8/8 [==============================] - 0s 7ms/step - loss: 1.3084e-04 - accuracy: 1.0000 - val_loss: 0.1422 - val_accuracy: 0.9844\n",
      "Epoch 49/100\n",
      "8/8 [==============================] - 0s 7ms/step - loss: 1.1435e-04 - accuracy: 1.0000 - val_loss: 0.1398 - val_accuracy: 0.9844\n",
      "Epoch 50/100\n",
      "8/8 [==============================] - 0s 7ms/step - loss: 1.1390e-04 - accuracy: 1.0000 - val_loss: 0.1457 - val_accuracy: 0.9844\n",
      "Epoch 51/100\n",
      "8/8 [==============================] - 0s 6ms/step - loss: 1.0448e-04 - accuracy: 1.0000 - val_loss: 0.1415 - val_accuracy: 0.9844\n",
      "Epoch 52/100\n",
      "8/8 [==============================] - 0s 6ms/step - loss: 8.8021e-05 - accuracy: 1.0000 - val_loss: 0.1413 - val_accuracy: 0.9844\n",
      "Epoch 53/100\n",
      "8/8 [==============================] - 0s 9ms/step - loss: 8.6118e-05 - accuracy: 1.0000 - val_loss: 0.1461 - val_accuracy: 0.9844\n",
      "Epoch 54/100\n",
      "8/8 [==============================] - 0s 5ms/step - loss: 8.9379e-05 - accuracy: 1.0000 - val_loss: 0.1518 - val_accuracy: 0.9844\n",
      "Epoch 55/100\n",
      "8/8 [==============================] - 0s 5ms/step - loss: 7.5799e-05 - accuracy: 1.0000 - val_loss: 0.1457 - val_accuracy: 0.9844\n",
      "Epoch 56/100\n",
      "8/8 [==============================] - 0s 6ms/step - loss: 6.8490e-05 - accuracy: 1.0000 - val_loss: 0.1423 - val_accuracy: 0.9844\n",
      "Epoch 57/100\n",
      "8/8 [==============================] - 0s 6ms/step - loss: 7.3696e-05 - accuracy: 1.0000 - val_loss: 0.1402 - val_accuracy: 0.9844\n",
      "Epoch 58/100\n",
      "8/8 [==============================] - 0s 6ms/step - loss: 6.3445e-05 - accuracy: 1.0000 - val_loss: 0.1491 - val_accuracy: 0.9844\n",
      "Epoch 59/100\n"
     ]
    },
    {
     "name": "stdout",
     "output_type": "stream",
     "text": [
      "8/8 [==============================] - 0s 6ms/step - loss: 5.9916e-05 - accuracy: 1.0000 - val_loss: 0.1515 - val_accuracy: 0.9844\n",
      "Epoch 60/100\n",
      "8/8 [==============================] - 0s 7ms/step - loss: 5.8128e-05 - accuracy: 1.0000 - val_loss: 0.1519 - val_accuracy: 0.9844\n",
      "Epoch 61/100\n",
      "8/8 [==============================] - 0s 6ms/step - loss: 5.5158e-05 - accuracy: 1.0000 - val_loss: 0.1473 - val_accuracy: 0.9844\n",
      "Epoch 62/100\n",
      "8/8 [==============================] - 0s 6ms/step - loss: 5.3247e-05 - accuracy: 1.0000 - val_loss: 0.1441 - val_accuracy: 0.9844\n",
      "Epoch 63/100\n",
      "8/8 [==============================] - 0s 6ms/step - loss: 5.5985e-05 - accuracy: 1.0000 - val_loss: 0.1514 - val_accuracy: 0.9844\n",
      "Epoch 64/100\n",
      "8/8 [==============================] - 0s 6ms/step - loss: 4.8273e-05 - accuracy: 1.0000 - val_loss: 0.1497 - val_accuracy: 0.9844\n",
      "Epoch 65/100\n",
      "8/8 [==============================] - 0s 6ms/step - loss: 4.6301e-05 - accuracy: 1.0000 - val_loss: 0.1491 - val_accuracy: 0.9844\n",
      "Epoch 66/100\n",
      "8/8 [==============================] - 0s 6ms/step - loss: 4.3407e-05 - accuracy: 1.0000 - val_loss: 0.1509 - val_accuracy: 0.9844\n",
      "Epoch 67/100\n",
      "8/8 [==============================] - 0s 6ms/step - loss: 4.2288e-05 - accuracy: 1.0000 - val_loss: 0.1517 - val_accuracy: 0.9844\n",
      "Epoch 68/100\n",
      "8/8 [==============================] - 0s 6ms/step - loss: 4.4021e-05 - accuracy: 1.0000 - val_loss: 0.1469 - val_accuracy: 0.9844\n",
      "Epoch 69/100\n",
      "8/8 [==============================] - 0s 6ms/step - loss: 3.8444e-05 - accuracy: 1.0000 - val_loss: 0.1502 - val_accuracy: 0.9844\n",
      "Epoch 70/100\n",
      "8/8 [==============================] - 0s 6ms/step - loss: 3.7170e-05 - accuracy: 1.0000 - val_loss: 0.1528 - val_accuracy: 0.9844\n",
      "Epoch 71/100\n",
      "8/8 [==============================] - 0s 6ms/step - loss: 3.8625e-05 - accuracy: 1.0000 - val_loss: 0.1557 - val_accuracy: 0.9844\n",
      "Epoch 72/100\n",
      "8/8 [==============================] - 0s 6ms/step - loss: 3.6718e-05 - accuracy: 1.0000 - val_loss: 0.1512 - val_accuracy: 0.9844\n",
      "Epoch 73/100\n",
      "8/8 [==============================] - 0s 6ms/step - loss: 3.3658e-05 - accuracy: 1.0000 - val_loss: 0.1498 - val_accuracy: 0.9844\n",
      "Epoch 74/100\n",
      "8/8 [==============================] - 0s 5ms/step - loss: 3.2975e-05 - accuracy: 1.0000 - val_loss: 0.1520 - val_accuracy: 0.9844\n",
      "Epoch 75/100\n",
      "8/8 [==============================] - 0s 6ms/step - loss: 3.2465e-05 - accuracy: 1.0000 - val_loss: 0.1538 - val_accuracy: 0.9844\n",
      "Epoch 76/100\n",
      "8/8 [==============================] - 0s 6ms/step - loss: 3.1047e-05 - accuracy: 1.0000 - val_loss: 0.1515 - val_accuracy: 0.9844\n",
      "Epoch 77/100\n",
      "8/8 [==============================] - 0s 6ms/step - loss: 2.9995e-05 - accuracy: 1.0000 - val_loss: 0.1529 - val_accuracy: 0.9844\n",
      "Epoch 78/100\n",
      "8/8 [==============================] - 0s 5ms/step - loss: 2.8290e-05 - accuracy: 1.0000 - val_loss: 0.1526 - val_accuracy: 0.9844\n",
      "Epoch 79/100\n",
      "8/8 [==============================] - 0s 6ms/step - loss: 2.8352e-05 - accuracy: 1.0000 - val_loss: 0.1528 - val_accuracy: 0.9844\n",
      "Epoch 80/100\n",
      "8/8 [==============================] - 0s 6ms/step - loss: 2.8463e-05 - accuracy: 1.0000 - val_loss: 0.1550 - val_accuracy: 0.9844\n",
      "Epoch 81/100\n",
      "8/8 [==============================] - 0s 6ms/step - loss: 2.6724e-05 - accuracy: 1.0000 - val_loss: 0.1548 - val_accuracy: 0.9844\n",
      "Epoch 82/100\n",
      "8/8 [==============================] - 0s 6ms/step - loss: 2.7296e-05 - accuracy: 1.0000 - val_loss: 0.1513 - val_accuracy: 0.9844\n",
      "Epoch 83/100\n",
      "8/8 [==============================] - 0s 6ms/step - loss: 2.5564e-05 - accuracy: 1.0000 - val_loss: 0.1526 - val_accuracy: 0.9844\n",
      "Epoch 84/100\n",
      "8/8 [==============================] - 0s 6ms/step - loss: 2.4670e-05 - accuracy: 1.0000 - val_loss: 0.1558 - val_accuracy: 0.9844\n",
      "Epoch 85/100\n",
      "8/8 [==============================] - 0s 6ms/step - loss: 2.3839e-05 - accuracy: 1.0000 - val_loss: 0.1554 - val_accuracy: 0.9844\n",
      "Epoch 86/100\n",
      "8/8 [==============================] - 0s 6ms/step - loss: 2.3582e-05 - accuracy: 1.0000 - val_loss: 0.1550 - val_accuracy: 0.9844\n",
      "Epoch 87/100\n",
      "8/8 [==============================] - 0s 7ms/step - loss: 2.3090e-05 - accuracy: 1.0000 - val_loss: 0.1542 - val_accuracy: 0.9844\n",
      "Epoch 88/100\n",
      "8/8 [==============================] - 0s 8ms/step - loss: 2.2444e-05 - accuracy: 1.0000 - val_loss: 0.1544 - val_accuracy: 0.9844\n",
      "Epoch 89/100\n",
      "8/8 [==============================] - 0s 7ms/step - loss: 2.1833e-05 - accuracy: 1.0000 - val_loss: 0.1544 - val_accuracy: 0.9844\n",
      "Epoch 90/100\n",
      "8/8 [==============================] - 0s 8ms/step - loss: 2.0867e-05 - accuracy: 1.0000 - val_loss: 0.1556 - val_accuracy: 0.9844\n",
      "Epoch 91/100\n",
      "8/8 [==============================] - 0s 8ms/step - loss: 2.0400e-05 - accuracy: 1.0000 - val_loss: 0.1578 - val_accuracy: 0.9844\n",
      "Epoch 92/100\n",
      "8/8 [==============================] - 0s 6ms/step - loss: 2.0306e-05 - accuracy: 1.0000 - val_loss: 0.1578 - val_accuracy: 0.9844\n",
      "Epoch 93/100\n",
      "8/8 [==============================] - 0s 6ms/step - loss: 1.9603e-05 - accuracy: 1.0000 - val_loss: 0.1585 - val_accuracy: 0.9844\n",
      "Epoch 94/100\n",
      "8/8 [==============================] - 0s 7ms/step - loss: 1.9740e-05 - accuracy: 1.0000 - val_loss: 0.1569 - val_accuracy: 0.9844\n",
      "Epoch 95/100\n",
      "8/8 [==============================] - 0s 7ms/step - loss: 1.8681e-05 - accuracy: 1.0000 - val_loss: 0.1572 - val_accuracy: 0.9844\n",
      "Epoch 96/100\n",
      "8/8 [==============================] - 0s 6ms/step - loss: 1.8464e-05 - accuracy: 1.0000 - val_loss: 0.1585 - val_accuracy: 0.9844\n",
      "Epoch 97/100\n",
      "8/8 [==============================] - 0s 5ms/step - loss: 1.7858e-05 - accuracy: 1.0000 - val_loss: 0.1583 - val_accuracy: 0.9844\n",
      "Epoch 98/100\n",
      "8/8 [==============================] - 0s 6ms/step - loss: 1.7438e-05 - accuracy: 1.0000 - val_loss: 0.1580 - val_accuracy: 0.9844\n",
      "Epoch 99/100\n",
      "8/8 [==============================] - 0s 6ms/step - loss: 1.7724e-05 - accuracy: 1.0000 - val_loss: 0.1599 - val_accuracy: 0.9844\n",
      "Epoch 100/100\n",
      "8/8 [==============================] - 0s 6ms/step - loss: 1.6891e-05 - accuracy: 1.0000 - val_loss: 0.1598 - val_accuracy: 0.9844\n"
     ]
    }
   ],
   "source": [
    "# fit the model to data\n",
    "history_v2 = dnn_v2.fit(X_train, Y_train, \n",
    "                    epochs=100, verbose=1, validation_split=0.2)"
   ]
  },
  {
   "cell_type": "code",
   "execution_count": 151,
   "id": "58924dbf",
   "metadata": {},
   "outputs": [
    {
     "name": "stdout",
     "output_type": "stream",
     "text": [
      "3/3 [==============================] - 0s 3ms/step - loss: 0.1938 - accuracy: 0.9625\n",
      "accuracy: 96.25%\n"
     ]
    }
   ],
   "source": [
    "# evaluate the model\n",
    "score_v2 = dnn_v2.evaluate(X_test, Y_test)\n",
    "print(\"%s: %.2f%%\" % (dnn_v2.metrics_names[1], score_v2[1] * 100))"
   ]
  },
  {
   "cell_type": "code",
   "execution_count": 152,
   "id": "9490a480",
   "metadata": {},
   "outputs": [
    {
     "data": {
      "text/plain": [
       "<matplotlib.legend.Legend at 0x2bd91450e80>"
      ]
     },
     "execution_count": 152,
     "metadata": {},
     "output_type": "execute_result"
    },
    {
     "data": {
      "image/png": "[encoded data removed]",
      "text/plain": [
       "<Figure size 720x360 with 1 Axes>"
      ]
     },
     "metadata": {},
     "output_type": "display_data"
    }
   ],
   "source": [
    "his = history_v2.history\n",
    "epochs = range(1, len(his['loss']) + 1)\n",
    "loss = his['loss']\n",
    "val_loss = his['val_loss']\n",
    "acc = his['accuracy']\n",
    "val_acc = his['val_accuracy']\n",
    "\n",
    "# make a graph of train/test acc\n",
    "plt.figure(figsize=(10, 5))\n",
    "plt.title('Training and Testing Accuracy (Deep Neural Network)')\n",
    "plt.xlabel('Epochs')\n",
    "plt.ylabel('Accuracy')\n",
    "plt.plot(epochs, acc, label='training accuracy', color='blue')\n",
    "plt.plot(epochs, val_acc, label='testing accuracy', color='g')\n",
    "plt.legend()"
   ]
  },
  {
   "cell_type": "code",
   "execution_count": 153,
   "id": "ae2d1876",
   "metadata": {},
   "outputs": [
    {
     "data": {
      "text/plain": [
       "<matplotlib.legend.Legend at 0x2bd91384670>"
      ]
     },
     "execution_count": 153,
     "metadata": {},
     "output_type": "execute_result"
    },
    {
     "data": {
      "image/png": "[encoded data removed]",
      "text/plain": [
       "<Figure size 720x360 with 1 Axes>"
      ]
     },
     "metadata": {},
     "output_type": "display_data"
    }
   ],
   "source": [
    "# make a graph of train/test loss\n",
    "plt.figure(figsize=(10, 5))\n",
    "plt.title('Training and Testing Loss (Deep Neural Network V2)')\n",
    "plt.xlabel('Epochs')\n",
    "plt.ylabel('Loss')\n",
    "plt.plot(epochs, loss, label='training loss', color='blue')\n",
    "plt.plot(epochs, val_loss, label='testing loss', color='g')\n",
    "plt.legend()"
   ]
  },
  {
   "cell_type": "markdown",
   "id": "cd72bd1b",
   "metadata": {},
   "source": [
    "## Commulative Comparison of Deep Learning Classifiers"
   ]
  },
  {
   "cell_type": "code",
   "execution_count": 155,
   "id": "8f969526",
   "metadata": {},
   "outputs": [
    {
     "data": {
      "text/plain": [
       "<BarContainer object of 3 artists>"
      ]
     },
     "execution_count": 155,
     "metadata": {},
     "output_type": "execute_result"
    },
    {
     "data": {
      "image/png": "[encoded data removed]",
      "text/plain": [
       "<Figure size 720x360 with 1 Axes>"
      ]
     },
     "metadata": {},
     "output_type": "display_data"
    }
   ],
   "source": [
    "score = dnn.evaluate(X_test, Y_test, verbose=0)\n",
    "score_v2 = dnn_v2.evaluate(X_test, Y_test, verbose=0)\n",
    "\n",
    "plt.figure(figsize=(10, 5))\n",
    "plt.ylabel('Accuracies')\n",
    "plt.title('Performance on Test Dataset (Deep Learning)')\n",
    "clf = ['Multi-Layered Perceptron', 'Deep Neural Network V1', 'Deep Neural Network V2']\n",
    "acc = [accuracy_score(Y_test, y_hat_mlp), score[1], score_v2[1]]\n",
    "\n",
    "plt.bar(clf, acc)"
   ]
  },
  {
   "cell_type": "code",
   "execution_count": null,
   "id": "ba959f1a",
   "metadata": {},
   "outputs": [],
   "source": []
  }
 ],
 "metadata": {
  "kernelspec": {
   "display_name": "Python 3 (ipykernel)",
   "language": "python",
   "name": "python3"
  },
  "language_info": {
   "codemirror_mode": {
    "name": "ipython",
    "version": 3
   },
   "file_extension": ".py",
   "mimetype": "text/x-python",
   "name": "python",
   "nbconvert_exporter": "python",
   "pygments_lexer": "ipython3",
   "version": "3.8.13"
  }
 },
 "nbformat": 4,
 "nbformat_minor": 5
}
